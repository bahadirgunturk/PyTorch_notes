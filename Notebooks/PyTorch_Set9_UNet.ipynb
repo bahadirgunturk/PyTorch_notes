{
  "nbformat": 4,
  "nbformat_minor": 0,
  "metadata": {
    "colab": {
      "provenance": []
    },
    "kernelspec": {
      "name": "python3",
      "display_name": "Python 3"
    },
    "language_info": {
      "name": "python"
    },
    "accelerator": "GPU",
    "gpuClass": "standard"
  },
  "cells": [
    {
      "cell_type": "markdown",
      "source": [
        "**UNet**\n",
        "\n",
        "\n",
        "---\n",
        "\n"
      ],
      "metadata": {
        "id": "YakMRJq7q5Is"
      }
    },
    {
      "cell_type": "code",
      "execution_count": null,
      "metadata": {
        "id": "k3ARR094kYMj"
      },
      "outputs": [],
      "source": [
        "import os\n",
        "import torch\n",
        "import torchvision\n",
        "import torch.nn as nn\n",
        "from torchvision import transforms\n",
        "from torchsummary import summary"
      ]
    },
    {
      "cell_type": "markdown",
      "source": [
        "UNet has two main block types: \n",
        "\n",
        "contract_block reduces the size but increases the number of channels.\n",
        "\n",
        "expand_block increases size but decreases the number of channels"
      ],
      "metadata": {
        "id": "Ff5cBYpAriws"
      }
    },
    {
      "cell_type": "code",
      "source": [
        "def contract_block(in_channels,out_channels,kernel_size,padding):\n",
        "  contract = nn.Sequential(\n",
        "    torch.nn.Conv2d(in_channels,out_channels,kernel_size,stride=1,padding=padding),\n",
        "    torch.nn.BatchNorm2d(out_channels),\n",
        "    torch.nn.ReLU(),\n",
        "    torch.nn.Conv2d(out_channels,out_channels,kernel_size,stride=1,padding=padding),\n",
        "    torch.nn.BatchNorm2d(out_channels),\n",
        "    torch.nn.ReLU(),\n",
        "    # the next line reduces the size by half\n",
        "    torch.nn.MaxPool2d(kernel_size=3,stride=2,padding=1)\n",
        "  )\n",
        "  return contract\n",
        "\n",
        "def expand_block(in_channels,out_channels,kernel_size,padding):\n",
        "  expand = nn.Sequential(\n",
        "    torch.nn.Conv2d(in_channels,out_channels,kernel_size,stride=1,padding=padding),\n",
        "    torch.nn.BatchNorm2d(out_channels),\n",
        "    torch.nn.ReLU(),\n",
        "    torch.nn.Conv2d(out_channels,out_channels,kernel_size,stride=1,padding=padding),\n",
        "    torch.nn.BatchNorm2d(out_channels),\n",
        "    torch.nn.ReLU(),\n",
        "    # the next line increases the size by a factor of two\n",
        "    torch.nn.ConvTranspose2d(out_channels,out_channels,kernel_size=3,stride=2,padding=1,output_padding=1)      \n",
        "  )\n",
        "  return expand\n"
      ],
      "metadata": {
        "id": "cWCK1hElYbAB"
      },
      "execution_count": null,
      "outputs": []
    },
    {
      "cell_type": "code",
      "source": [
        "# Test the blocks - kernel_size and padding should be properly chosen\n",
        "block1 = contract_block(3,32,3,1)\n",
        "xb = torch.randn((1,3,128,128))\n",
        "print('xb:',xb.shape)\n",
        "c1 = block1(xb)\n",
        "print('c1:',c1.shape)\n",
        "\n",
        "block2 = expand_block(32,3,3,1)\n",
        "c2 = block2(c1)\n",
        "print('c2:',c2.shape)"
      ],
      "metadata": {
        "colab": {
          "base_uri": "https://localhost:8080/"
        },
        "id": "F9NuqztPfEU1",
        "outputId": "126f4f62-b17f-4656-d844-1a65537cf24c"
      },
      "execution_count": null,
      "outputs": [
        {
          "output_type": "stream",
          "name": "stdout",
          "text": [
            "xb: torch.Size([1, 3, 128, 128])\n",
            "c1: torch.Size([1, 32, 64, 64])\n",
            "c2: torch.Size([1, 3, 128, 128])\n"
          ]
        }
      ]
    },
    {
      "cell_type": "markdown",
      "source": [
        "UNet contracts and expands the input. When expanding, it concatenates outputs from previous layers. "
      ],
      "metadata": {
        "id": "-POjZFDhwLca"
      }
    },
    {
      "cell_type": "code",
      "source": [
        "class UNET(nn.Module):\n",
        "  def __init__(self,in_channels,out_channels):\n",
        "    super().__init__()\n",
        "\n",
        "    self.conv1 = contract_block(in_channels,32,3,1)\n",
        "    self.conv2 = contract_block(32,64,3,1)\n",
        "    self.conv3 = contract_block(64,128,3,1)\n",
        "\n",
        "    self.upconv3 = expand_block(128,64,3,1)\n",
        "    self.upconv2 = expand_block(64*2,32,3,1) # Due to concat, in_channels=64*2\n",
        "    self.upconv1 = expand_block(32*2,out_channels,3,1)\n",
        "\n",
        "  \n",
        "  def forward(self,x):\n",
        "    # downsample\n",
        "    conv1 = self.conv1(x)\n",
        "    conv2 = self.conv2(conv1)\n",
        "    conv3 = self.conv3(conv2)\n",
        "\n",
        "    upconv3 = self.upconv3(conv3)\n",
        "    upconv2 = self.upconv2(torch.cat([conv2,upconv3],1))\n",
        "    upconv1 = self.upconv1(torch.cat([conv1,upconv2],1))\n",
        "\n",
        "    return upconv1"
      ],
      "metadata": {
        "id": "y-2QGEFFkmwO"
      },
      "execution_count": null,
      "outputs": []
    },
    {
      "cell_type": "code",
      "source": [
        "# test the model\n",
        "unet = UNET(4,128)\n",
        "\n",
        "print(unet)\n",
        "\n",
        "\n",
        "xb = torch.randn((1,4,384,384))\n",
        "out = unet(xb)\n",
        "print(out.shape)\n"
      ],
      "metadata": {
        "id": "5w_Im_thossL"
      },
      "execution_count": null,
      "outputs": []
    }
  ]
}