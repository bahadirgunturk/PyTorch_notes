{
  "nbformat": 4,
  "nbformat_minor": 0,
  "metadata": {
    "colab": {
      "provenance": []
    },
    "kernelspec": {
      "name": "python3",
      "display_name": "Python 3"
    },
    "language_info": {
      "name": "python"
    }
  },
  "cells": [
    {
      "cell_type": "code",
      "execution_count": null,
      "metadata": {
        "colab": {
          "base_uri": "https://localhost:8080/"
        },
        "id": "ix9doo-h0JNb",
        "outputId": "94ec1073-27de-4476-da0b-4854ef9175d2"
      },
      "outputs": [
        {
          "output_type": "stream",
          "name": "stdout",
          "text": [
            "Sequential(\n",
            "  (0): Conv2d(1, 32, kernel_size=(5, 5), stride=(1, 1))\n",
            "  (1): ReLU(inplace=True)\n",
            "  (2): Conv2d(32, 32, kernel_size=(5, 5), stride=(1, 1))\n",
            "  (3): ReLU(inplace=True)\n",
            "  (4): Conv2d(32, 32, kernel_size=(4, 4), stride=(2, 2))\n",
            "  (5): ReLU(inplace=True)\n",
            "  (6): Conv2d(32, 32, kernel_size=(3, 3), stride=(2, 2))\n",
            "  (7): ReLU(inplace=True)\n",
            "  (8): Conv2d(32, 8, kernel_size=(4, 4), stride=(1, 1))\n",
            ")\n",
            "x.shape: torch.Size([16, 1, 64, 64])\n",
            "y.shape: torch.Size([16, 8, 10, 10])\n",
            "decoder(\n",
            "  (convT1): ConvTranspose2d(8, 32, kernel_size=(4, 4), stride=(1, 1))\n",
            "  (convT2): ConvTranspose2d(32, 32, kernel_size=(3, 3), stride=(2, 2))\n",
            "  (convT3): ConvTranspose2d(32, 32, kernel_size=(4, 4), stride=(2, 2))\n",
            "  (convT4): ConvTranspose2d(32, 32, kernel_size=(5, 5), stride=(1, 1))\n",
            "  (convT5): ConvTranspose2d(32, 1, kernel_size=(5, 5), stride=(1, 1))\n",
            "  (relu): ReLU()\n",
            ")\n",
            "z.shape: torch.Size([16, 1, 64, 64])\n"
          ]
        }
      ],
      "source": [
        "import torch\n",
        "import torch.nn as nn\n",
        "\n",
        "# Let's create an autoencoder model...\n",
        "\n",
        "# Create an encoder model instance\n",
        "encoder = nn.Sequential(\n",
        "  nn.Conv2d(in_channels=1,out_channels=32,kernel_size=(5,5),stride=(1,1)),\n",
        "  nn.ReLU(inplace=True),\n",
        "  nn.Conv2d(32,32,kernel_size=5,stride=1),\n",
        "  nn.ReLU(inplace=True),\n",
        "  nn.Conv2d(32,32,kernel_size=4,stride=2),\n",
        "  nn.ReLU(inplace=True),\n",
        "  nn.Conv2d(32,32,kernel_size=3,stride=2),\n",
        "  nn.ReLU(inplace=True),\n",
        "  nn.Conv2d(32,8,kernel_size=4,stride=1)\n",
        ")\n",
        "\n",
        "print(encoder)\n",
        "\n",
        "x = torch.randn((16,1,64,64))\n",
        "print('x.shape:',x.shape)\n",
        "y=encoder(x)\n",
        "print('y.shape:',y.shape)\n",
        "\n",
        "# Create a decoder class\n",
        "class decoder(nn.Module):\n",
        "  def __init__(self):\n",
        "    super().__init__()\n",
        "    self.convT1 = nn.ConvTranspose2d(8,32,4,1)\n",
        "    self.convT2 = nn.ConvTranspose2d(32,32,3,2)\n",
        "    self.convT3 = nn.ConvTranspose2d(32,32,4,2)\n",
        "    self.convT4 = nn.ConvTranspose2d(32,32,5,1)\n",
        "    self.convT5 = nn.ConvTranspose2d(32,1,5,1)\n",
        "\n",
        "    self.relu = nn.ReLU()\n",
        "\n",
        "  def forward(self,x):\n",
        "    out = self.convT1(x)\n",
        "    out = self.relu(out)\n",
        "    out = self.convT2(out)\n",
        "    out = self.relu(out)\n",
        "    out = self.convT3(out)\n",
        "    out = self.relu(out)\n",
        "    out = self.convT4(out)\n",
        "    out = self.relu(out)\n",
        "    out = self.convT5(out)\n",
        "\n",
        "    return out\n",
        "\n",
        "# Create an instance of the decoder class\n",
        "dec = decoder()\n",
        "print(dec)\n",
        "\n",
        "z = dec(y)\n",
        "print('z.shape:',z.shape)\n"
      ]
    },
    {
      "cell_type": "code",
      "source": [
        "# Subblocks can be combined with nn.Sequential()\n",
        "AutoEncoder = nn.Sequential(\n",
        "    encoder,\n",
        "    dec\n",
        ")\n",
        "\n",
        "print(AutoEncoder)\n",
        "\n",
        "z_pred = AutoEncoder(x)\n",
        "print(z_pred.shape)"
      ],
      "metadata": {
        "colab": {
          "base_uri": "https://localhost:8080/"
        },
        "id": "8rd3kXHF6LuB",
        "outputId": "768d9877-af28-4954-bed2-e06a9a8b59c5"
      },
      "execution_count": null,
      "outputs": [
        {
          "output_type": "stream",
          "name": "stdout",
          "text": [
            "Sequential(\n",
            "  (0): Sequential(\n",
            "    (0): Conv2d(1, 32, kernel_size=(5, 5), stride=(1, 1))\n",
            "    (1): ReLU(inplace=True)\n",
            "    (2): Conv2d(32, 32, kernel_size=(5, 5), stride=(1, 1))\n",
            "    (3): ReLU(inplace=True)\n",
            "    (4): Conv2d(32, 32, kernel_size=(4, 4), stride=(2, 2))\n",
            "    (5): ReLU(inplace=True)\n",
            "    (6): Conv2d(32, 32, kernel_size=(3, 3), stride=(2, 2))\n",
            "    (7): ReLU(inplace=True)\n",
            "    (8): Conv2d(32, 8, kernel_size=(4, 4), stride=(1, 1))\n",
            "  )\n",
            "  (1): decoder(\n",
            "    (convT1): ConvTranspose2d(8, 32, kernel_size=(4, 4), stride=(1, 1))\n",
            "    (convT2): ConvTranspose2d(32, 32, kernel_size=(3, 3), stride=(2, 2))\n",
            "    (convT3): ConvTranspose2d(32, 32, kernel_size=(4, 4), stride=(2, 2))\n",
            "    (convT4): ConvTranspose2d(32, 32, kernel_size=(5, 5), stride=(1, 1))\n",
            "    (convT5): ConvTranspose2d(32, 1, kernel_size=(5, 5), stride=(1, 1))\n",
            "    (relu): ReLU()\n",
            "  )\n",
            ")\n",
            "torch.Size([16, 1, 64, 64])\n"
          ]
        }
      ]
    },
    {
      "cell_type": "code",
      "source": [
        "!pip install torchinfo\n",
        "from torchinfo import summary\n",
        "summary(AutoEncoder, (1, 1, 64, 64))"
      ],
      "metadata": {
        "colab": {
          "base_uri": "https://localhost:8080/"
        },
        "id": "1fGMCd8KCFP2",
        "outputId": "97e31418-cd84-4681-e8c7-ed4f04c2a624"
      },
      "execution_count": null,
      "outputs": [
        {
          "output_type": "stream",
          "name": "stdout",
          "text": [
            "Looking in indexes: https://pypi.org/simple, https://us-python.pkg.dev/colab-wheels/public/simple/\n",
            "Requirement already satisfied: torchinfo in /usr/local/lib/python3.7/dist-packages (1.7.1)\n"
          ]
        },
        {
          "output_type": "execute_result",
          "data": {
            "text/plain": [
              "==========================================================================================\n",
              "Layer (type:depth-idx)                   Output Shape              Param #\n",
              "==========================================================================================\n",
              "Sequential                               [1, 1, 64, 64]            --\n",
              "├─Sequential: 1-1                        [1, 8, 10, 10]            --\n",
              "│    └─Conv2d: 2-1                       [1, 32, 60, 60]           832\n",
              "│    └─ReLU: 2-2                         [1, 32, 60, 60]           --\n",
              "│    └─Conv2d: 2-3                       [1, 32, 56, 56]           25,632\n",
              "│    └─ReLU: 2-4                         [1, 32, 56, 56]           --\n",
              "│    └─Conv2d: 2-5                       [1, 32, 27, 27]           16,416\n",
              "│    └─ReLU: 2-6                         [1, 32, 27, 27]           --\n",
              "│    └─Conv2d: 2-7                       [1, 32, 13, 13]           9,248\n",
              "│    └─ReLU: 2-8                         [1, 32, 13, 13]           --\n",
              "│    └─Conv2d: 2-9                       [1, 8, 10, 10]            4,104\n",
              "├─decoder: 1-2                           [1, 1, 64, 64]            --\n",
              "│    └─ConvTranspose2d: 2-10             [1, 32, 13, 13]           4,128\n",
              "│    └─ReLU: 2-11                        [1, 32, 13, 13]           --\n",
              "│    └─ConvTranspose2d: 2-12             [1, 32, 27, 27]           9,248\n",
              "│    └─ReLU: 2-13                        [1, 32, 27, 27]           --\n",
              "│    └─ConvTranspose2d: 2-14             [1, 32, 56, 56]           16,416\n",
              "│    └─ReLU: 2-15                        [1, 32, 56, 56]           --\n",
              "│    └─ConvTranspose2d: 2-16             [1, 32, 60, 60]           25,632\n",
              "│    └─ReLU: 2-17                        [1, 32, 60, 60]           --\n",
              "│    └─ConvTranspose2d: 2-18             [1, 1, 64, 64]            801\n",
              "==========================================================================================\n",
              "Total params: 112,457\n",
              "Trainable params: 112,457\n",
              "Non-trainable params: 0\n",
              "Total mult-adds (M): 251.79\n",
              "==========================================================================================\n",
              "Input size (MB): 0.02\n",
              "Forward/backward pass size (MB): 3.95\n",
              "Params size (MB): 0.45\n",
              "Estimated Total Size (MB): 4.41\n",
              "=========================================================================================="
            ]
          },
          "metadata": {},
          "execution_count": 26
        }
      ]
    },
    {
      "cell_type": "code",
      "source": [
        "# Subblocks can be combined under nn.Module\n",
        "class AutoEncoder(nn.Module):\n",
        "  def __init__(self,encoder,decoder):\n",
        "    super().__init__()\n",
        "    self.encoder = encoder\n",
        "    self.decoder = decoder\n",
        "  \n",
        "  def forward(self,x):\n",
        "    out = self.encoder(x)\n",
        "    out = self.decoder(out)\n",
        "    return out\n",
        "\n",
        "AutoEnc = AutoEncoder(encoder,dec)\n",
        "print(AutoEnc)\n"
      ],
      "metadata": {
        "colab": {
          "base_uri": "https://localhost:8080/"
        },
        "id": "Dr_BX9Q47nI-",
        "outputId": "f437d314-b596-41a6-b5fd-43e4039cafe8"
      },
      "execution_count": null,
      "outputs": [
        {
          "output_type": "stream",
          "name": "stdout",
          "text": [
            "AutoEncoder(\n",
            "  (encoder): Sequential(\n",
            "    (0): Conv2d(1, 32, kernel_size=(5, 5), stride=(1, 1))\n",
            "    (1): ReLU(inplace=True)\n",
            "    (2): Conv2d(32, 32, kernel_size=(5, 5), stride=(1, 1))\n",
            "    (3): ReLU(inplace=True)\n",
            "    (4): Conv2d(32, 32, kernel_size=(4, 4), stride=(2, 2))\n",
            "    (5): ReLU(inplace=True)\n",
            "    (6): Conv2d(32, 32, kernel_size=(3, 3), stride=(2, 2))\n",
            "    (7): ReLU(inplace=True)\n",
            "    (8): Conv2d(32, 8, kernel_size=(4, 4), stride=(1, 1))\n",
            "  )\n",
            "  (decoder): decoder(\n",
            "    (convT1): ConvTranspose2d(8, 32, kernel_size=(4, 4), stride=(1, 1))\n",
            "    (convT2): ConvTranspose2d(32, 32, kernel_size=(3, 3), stride=(2, 2))\n",
            "    (convT3): ConvTranspose2d(32, 32, kernel_size=(4, 4), stride=(2, 2))\n",
            "    (convT4): ConvTranspose2d(32, 32, kernel_size=(5, 5), stride=(1, 1))\n",
            "    (convT5): ConvTranspose2d(32, 1, kernel_size=(5, 5), stride=(1, 1))\n",
            "    (relu): ReLU()\n",
            "  )\n",
            ")\n"
          ]
        }
      ]
    },
    {
      "cell_type": "code",
      "source": [
        "from torchsummary import summary\n",
        "summary(AutoEnc, (1, 64, 64))"
      ],
      "metadata": {
        "colab": {
          "base_uri": "https://localhost:8080/"
        },
        "id": "k6FucW0J81gO",
        "outputId": "a19944a1-6793-45b9-da0c-dfc931c7a50e"
      },
      "execution_count": null,
      "outputs": [
        {
          "output_type": "stream",
          "name": "stdout",
          "text": [
            "----------------------------------------------------------------\n",
            "        Layer (type)               Output Shape         Param #\n",
            "================================================================\n",
            "            Conv2d-1           [-1, 32, 60, 60]             832\n",
            "              ReLU-2           [-1, 32, 60, 60]               0\n",
            "            Conv2d-3           [-1, 32, 56, 56]          25,632\n",
            "              ReLU-4           [-1, 32, 56, 56]               0\n",
            "            Conv2d-5           [-1, 32, 27, 27]          16,416\n",
            "              ReLU-6           [-1, 32, 27, 27]               0\n",
            "            Conv2d-7           [-1, 32, 13, 13]           9,248\n",
            "              ReLU-8           [-1, 32, 13, 13]               0\n",
            "            Conv2d-9            [-1, 8, 10, 10]           4,104\n",
            "  ConvTranspose2d-10           [-1, 32, 13, 13]           4,128\n",
            "             ReLU-11           [-1, 32, 13, 13]               0\n",
            "  ConvTranspose2d-12           [-1, 32, 27, 27]           9,248\n",
            "             ReLU-13           [-1, 32, 27, 27]               0\n",
            "  ConvTranspose2d-14           [-1, 32, 56, 56]          16,416\n",
            "             ReLU-15           [-1, 32, 56, 56]               0\n",
            "  ConvTranspose2d-16           [-1, 32, 60, 60]          25,632\n",
            "             ReLU-17           [-1, 32, 60, 60]               0\n",
            "  ConvTranspose2d-18            [-1, 1, 64, 64]             801\n",
            "          decoder-19            [-1, 1, 64, 64]               0\n",
            "================================================================\n",
            "Total params: 112,457\n",
            "Trainable params: 112,457\n",
            "Non-trainable params: 0\n",
            "----------------------------------------------------------------\n",
            "Input size (MB): 0.02\n",
            "Forward/backward pass size (MB): 7.52\n",
            "Params size (MB): 0.43\n",
            "Estimated Total Size (MB): 7.97\n",
            "----------------------------------------------------------------\n"
          ]
        }
      ]
    },
    {
      "cell_type": "code",
      "source": [
        "!pip install torchinfo\n",
        "from torchinfo import summary\n",
        "summary(AutoEnc, (1, 1, 64, 64))"
      ],
      "metadata": {
        "colab": {
          "base_uri": "https://localhost:8080/"
        },
        "id": "mzkr_FG0A5iX",
        "outputId": "19faef7a-94e2-46a3-cb5a-3be2e93d80af"
      },
      "execution_count": null,
      "outputs": [
        {
          "output_type": "stream",
          "name": "stdout",
          "text": [
            "Looking in indexes: https://pypi.org/simple, https://us-python.pkg.dev/colab-wheels/public/simple/\n",
            "Collecting torchinfo\n",
            "  Downloading torchinfo-1.7.1-py3-none-any.whl (22 kB)\n",
            "Installing collected packages: torchinfo\n",
            "Successfully installed torchinfo-1.7.1\n"
          ]
        },
        {
          "output_type": "execute_result",
          "data": {
            "text/plain": [
              "==========================================================================================\n",
              "Layer (type:depth-idx)                   Output Shape              Param #\n",
              "==========================================================================================\n",
              "AutoEncoder                              [1, 1, 64, 64]            --\n",
              "├─Sequential: 1-1                        [1, 8, 10, 10]            --\n",
              "│    └─Conv2d: 2-1                       [1, 32, 60, 60]           832\n",
              "│    └─ReLU: 2-2                         [1, 32, 60, 60]           --\n",
              "│    └─Conv2d: 2-3                       [1, 32, 56, 56]           25,632\n",
              "│    └─ReLU: 2-4                         [1, 32, 56, 56]           --\n",
              "│    └─Conv2d: 2-5                       [1, 32, 27, 27]           16,416\n",
              "│    └─ReLU: 2-6                         [1, 32, 27, 27]           --\n",
              "│    └─Conv2d: 2-7                       [1, 32, 13, 13]           9,248\n",
              "│    └─ReLU: 2-8                         [1, 32, 13, 13]           --\n",
              "│    └─Conv2d: 2-9                       [1, 8, 10, 10]            4,104\n",
              "├─decoder: 1-2                           [1, 1, 64, 64]            --\n",
              "│    └─ConvTranspose2d: 2-10             [1, 32, 13, 13]           4,128\n",
              "│    └─ReLU: 2-11                        [1, 32, 13, 13]           --\n",
              "│    └─ConvTranspose2d: 2-12             [1, 32, 27, 27]           9,248\n",
              "│    └─ReLU: 2-13                        [1, 32, 27, 27]           --\n",
              "│    └─ConvTranspose2d: 2-14             [1, 32, 56, 56]           16,416\n",
              "│    └─ReLU: 2-15                        [1, 32, 56, 56]           --\n",
              "│    └─ConvTranspose2d: 2-16             [1, 32, 60, 60]           25,632\n",
              "│    └─ReLU: 2-17                        [1, 32, 60, 60]           --\n",
              "│    └─ConvTranspose2d: 2-18             [1, 1, 64, 64]            801\n",
              "==========================================================================================\n",
              "Total params: 112,457\n",
              "Trainable params: 112,457\n",
              "Non-trainable params: 0\n",
              "Total mult-adds (M): 251.79\n",
              "==========================================================================================\n",
              "Input size (MB): 0.02\n",
              "Forward/backward pass size (MB): 3.95\n",
              "Params size (MB): 0.45\n",
              "Estimated Total Size (MB): 4.41\n",
              "=========================================================================================="
            ]
          },
          "metadata": {},
          "execution_count": 23
        }
      ]
    }
  ]
}