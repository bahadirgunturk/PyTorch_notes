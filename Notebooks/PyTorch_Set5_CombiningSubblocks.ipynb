{
  "cells": [
    {
      "cell_type": "markdown",
      "metadata": {},
      "source": [
        "**Model blocks**\n",
        "\n",
        "---\n"
      ]
    },
    {
      "cell_type": "code",
      "execution_count": 1,
      "metadata": {
        "colab": {
          "base_uri": "https://localhost:8080/"
        },
        "id": "ix9doo-h0JNb",
        "outputId": "94ec1073-27de-4476-da0b-4854ef9175d2"
      },
      "outputs": [
        {
          "name": "stdout",
          "output_type": "stream",
          "text": [
            "Sequential(\n",
            "  (0): Conv2d(1, 32, kernel_size=(5, 5), stride=(1, 1))\n",
            "  (1): ReLU(inplace=True)\n",
            "  (2): Conv2d(32, 32, kernel_size=(5, 5), stride=(1, 1))\n",
            "  (3): ReLU(inplace=True)\n",
            "  (4): Conv2d(32, 32, kernel_size=(4, 4), stride=(2, 2))\n",
            "  (5): ReLU(inplace=True)\n",
            "  (6): Conv2d(32, 32, kernel_size=(3, 3), stride=(2, 2))\n",
            "  (7): ReLU(inplace=True)\n",
            "  (8): Conv2d(32, 8, kernel_size=(4, 4), stride=(1, 1))\n",
            ")\n",
            "x.shape: torch.Size([16, 1, 64, 64])\n",
            "y.shape: torch.Size([16, 8, 10, 10])\n",
            "decoder(\n",
            "  (convT1): ConvTranspose2d(8, 32, kernel_size=(4, 4), stride=(1, 1))\n",
            "  (convT2): ConvTranspose2d(32, 32, kernel_size=(3, 3), stride=(2, 2))\n",
            "  (convT3): ConvTranspose2d(32, 32, kernel_size=(4, 4), stride=(2, 2))\n",
            "  (convT4): ConvTranspose2d(32, 32, kernel_size=(5, 5), stride=(1, 1))\n",
            "  (convT5): ConvTranspose2d(32, 1, kernel_size=(5, 5), stride=(1, 1))\n",
            "  (relu): ReLU()\n",
            ")\n",
            "z.shape: torch.Size([16, 1, 64, 64])\n"
          ]
        }
      ],
      "source": [
        "import torch\n",
        "import torch.nn as nn\n",
        "\n",
        "# Let's create an autoencoder model...\n",
        "\n",
        "# Create an encoder model instance\n",
        "encoder = nn.Sequential(\n",
        "  nn.Conv2d(in_channels=1,out_channels=32,kernel_size=(5,5),stride=(1,1)),\n",
        "  nn.ReLU(inplace=True),\n",
        "  nn.Conv2d(32,32,kernel_size=5,stride=1),\n",
        "  nn.ReLU(inplace=True),\n",
        "  nn.Conv2d(32,32,kernel_size=4,stride=2),\n",
        "  nn.ReLU(inplace=True),\n",
        "  nn.Conv2d(32,32,kernel_size=3,stride=2),\n",
        "  nn.ReLU(inplace=True),\n",
        "  nn.Conv2d(32,8,kernel_size=4,stride=1)\n",
        ")\n",
        "\n",
        "print(encoder)\n",
        "\n",
        "x = torch.randn((16,1,64,64))\n",
        "print('x.shape:',x.shape)\n",
        "y=encoder(x)\n",
        "print('y.shape:',y.shape)\n",
        "\n",
        "# Create a decoder class\n",
        "class decoder(nn.Module):\n",
        "  def __init__(self):\n",
        "    super().__init__()\n",
        "    self.convT1 = nn.ConvTranspose2d(8,32,4,1)\n",
        "    self.convT2 = nn.ConvTranspose2d(32,32,3,2)\n",
        "    self.convT3 = nn.ConvTranspose2d(32,32,4,2)\n",
        "    self.convT4 = nn.ConvTranspose2d(32,32,5,1)\n",
        "    self.convT5 = nn.ConvTranspose2d(32,1,5,1)\n",
        "\n",
        "    self.relu = nn.ReLU()\n",
        "\n",
        "  def forward(self,x):\n",
        "    out = self.convT1(x)\n",
        "    out = self.relu(out)\n",
        "    out = self.convT2(out)\n",
        "    out = self.relu(out)\n",
        "    out = self.convT3(out)\n",
        "    out = self.relu(out)\n",
        "    out = self.convT4(out)\n",
        "    out = self.relu(out)\n",
        "    out = self.convT5(out)\n",
        "\n",
        "    return out\n",
        "\n",
        "# Create an instance of the decoder class\n",
        "dec = decoder()\n",
        "print(dec)\n",
        "\n",
        "z = dec(y)\n",
        "print('z.shape:',z.shape)\n"
      ]
    },
    {
      "cell_type": "code",
      "execution_count": 2,
      "metadata": {
        "colab": {
          "base_uri": "https://localhost:8080/"
        },
        "id": "8rd3kXHF6LuB",
        "outputId": "768d9877-af28-4954-bed2-e06a9a8b59c5"
      },
      "outputs": [
        {
          "name": "stdout",
          "output_type": "stream",
          "text": [
            "Sequential(\n",
            "  (0): Sequential(\n",
            "    (0): Conv2d(1, 32, kernel_size=(5, 5), stride=(1, 1))\n",
            "    (1): ReLU(inplace=True)\n",
            "    (2): Conv2d(32, 32, kernel_size=(5, 5), stride=(1, 1))\n",
            "    (3): ReLU(inplace=True)\n",
            "    (4): Conv2d(32, 32, kernel_size=(4, 4), stride=(2, 2))\n",
            "    (5): ReLU(inplace=True)\n",
            "    (6): Conv2d(32, 32, kernel_size=(3, 3), stride=(2, 2))\n",
            "    (7): ReLU(inplace=True)\n",
            "    (8): Conv2d(32, 8, kernel_size=(4, 4), stride=(1, 1))\n",
            "  )\n",
            "  (1): decoder(\n",
            "    (convT1): ConvTranspose2d(8, 32, kernel_size=(4, 4), stride=(1, 1))\n",
            "    (convT2): ConvTranspose2d(32, 32, kernel_size=(3, 3), stride=(2, 2))\n",
            "    (convT3): ConvTranspose2d(32, 32, kernel_size=(4, 4), stride=(2, 2))\n",
            "    (convT4): ConvTranspose2d(32, 32, kernel_size=(5, 5), stride=(1, 1))\n",
            "    (convT5): ConvTranspose2d(32, 1, kernel_size=(5, 5), stride=(1, 1))\n",
            "    (relu): ReLU()\n",
            "  )\n",
            ")\n",
            "torch.Size([16, 1, 64, 64])\n"
          ]
        }
      ],
      "source": [
        "# Subblocks can be combined with nn.Sequential()\n",
        "AutoEncoder = nn.Sequential(\n",
        "    encoder,\n",
        "    dec\n",
        ")\n",
        "\n",
        "print(AutoEncoder)\n",
        "\n",
        "z_pred = AutoEncoder(x)\n",
        "print(z_pred.shape)"
      ]
    },
    {
      "cell_type": "code",
      "execution_count": null,
      "metadata": {
        "colab": {
          "base_uri": "https://localhost:8080/"
        },
        "id": "1fGMCd8KCFP2",
        "outputId": "97e31418-cd84-4681-e8c7-ed4f04c2a624"
      },
      "outputs": [],
      "source": [
        "#!pip install torchinfo\n",
        "from torchinfo import summary\n",
        "summary(AutoEncoder, (1, 1, 64, 64))"
      ]
    },
    {
      "cell_type": "code",
      "execution_count": null,
      "metadata": {
        "colab": {
          "base_uri": "https://localhost:8080/"
        },
        "id": "Dr_BX9Q47nI-",
        "outputId": "f437d314-b596-41a6-b5fd-43e4039cafe8"
      },
      "outputs": [],
      "source": [
        "# Subblocks can be combined under nn.Module\n",
        "class AutoEncoder(nn.Module):\n",
        "  def __init__(self,encoder,decoder):\n",
        "    super().__init__()\n",
        "    self.encoder = encoder\n",
        "    self.decoder = decoder\n",
        "  \n",
        "  def forward(self,x):\n",
        "    out = self.encoder(x)\n",
        "    out = self.decoder(out)\n",
        "    return out\n",
        "\n",
        "AutoEnc = AutoEncoder(encoder,dec)\n",
        "print(AutoEnc)\n"
      ]
    },
    {
      "cell_type": "code",
      "execution_count": null,
      "metadata": {
        "colab": {
          "base_uri": "https://localhost:8080/"
        },
        "id": "k6FucW0J81gO",
        "outputId": "a19944a1-6793-45b9-da0c-dfc931c7a50e"
      },
      "outputs": [],
      "source": [
        "# Alternative to torchinfo you can use torchsummary\n",
        "#from torchsummary import summary\n",
        "#summary(AutoEnc, (1, 64, 64))"
      ]
    },
    {
      "cell_type": "code",
      "execution_count": null,
      "metadata": {
        "colab": {
          "base_uri": "https://localhost:8080/"
        },
        "id": "mzkr_FG0A5iX",
        "outputId": "19faef7a-94e2-46a3-cb5a-3be2e93d80af"
      },
      "outputs": [],
      "source": [
        "!pip install torchinfo\n",
        "from torchinfo import summary\n",
        "summary(AutoEnc, (1, 1, 64, 64))"
      ]
    }
  ],
  "metadata": {
    "colab": {
      "provenance": []
    },
    "kernelspec": {
      "display_name": "Python 3",
      "name": "python3"
    },
    "language_info": {
      "codemirror_mode": {
        "name": "ipython",
        "version": 3
      },
      "file_extension": ".py",
      "mimetype": "text/x-python",
      "name": "python",
      "nbconvert_exporter": "python",
      "pygments_lexer": "ipython3",
      "version": "3.10.12"
    }
  },
  "nbformat": 4,
  "nbformat_minor": 0
}
