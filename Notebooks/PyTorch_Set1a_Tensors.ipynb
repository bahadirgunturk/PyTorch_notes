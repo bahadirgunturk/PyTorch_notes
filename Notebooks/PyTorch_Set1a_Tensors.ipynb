{
  "cells": [
    {
      "cell_type": "markdown",
      "metadata": {
        "id": "eiebfccKrVj7"
      },
      "source": [
        "**Tensors**\n",
        "\n",
        "\n",
        "---\n",
        "\n",
        "\n"
      ]
    },
    {
      "cell_type": "markdown",
      "metadata": {
        "id": "w-JpPHl_rY3K"
      },
      "source": [
        "*Basics*"
      ]
    },
    {
      "cell_type": "code",
      "execution_count": 3,
      "metadata": {
        "colab": {
          "base_uri": "https://localhost:8080/"
        },
        "id": "k9N0ZMO2rR0f",
        "outputId": "061e7e73-12a0-4650-b6ef-857007180958"
      },
      "outputs": [
        {
          "name": "stdout",
          "output_type": "stream",
          "text": [
            "tensor([[0, 1],\n",
            "        [2, 3]]) torch.int64 <class 'torch.Tensor'>\n"
          ]
        }
      ],
      "source": [
        "import torch\n",
        "import numpy as np\n",
        "\n",
        "# Initialize a tensor from a list \n",
        "data = [[0,1],[2,3]]                    # <class 'list'> \n",
        "x = torch.tensor(data)                  # this is a tensor \n",
        "print(x, x.dtype, type(x)) "
      ]
    },
    {
      "cell_type": "code",
      "execution_count": null,
      "metadata": {
        "colab": {
          "base_uri": "https://localhost:8080/"
        },
        "id": "L7vhSecWtM4E",
        "outputId": "7f0ad68a-6a33-476e-d76a-44c710bf7d0c"
      },
      "outputs": [],
      "source": [
        "# Initialize numpy array from a list\n",
        "x_np = np.array(data)\n",
        "print(x_np,x_np.dtype,type(x_np))"
      ]
    },
    {
      "cell_type": "code",
      "execution_count": null,
      "metadata": {
        "colab": {
          "base_uri": "https://localhost:8080/"
        },
        "id": "u4Ko7aYquShT",
        "outputId": "5a343090-9f94-4c9c-d32a-e13591b7859b"
      },
      "outputs": [],
      "source": [
        "# You can convert a numpy array to tensor and vice versa\n",
        "x = torch.from_numpy(x_np)\n",
        "print(x, x.dtype, type(x))\n",
        "\n",
        "t = torch.ones((3,2),dtype=torch.float32)\n",
        "print(t, t.dtype, type(t))\n",
        "t_np = t.numpy() \n",
        "print(t_np, t_np.dtype, type(t_np))"
      ]
    },
    {
      "cell_type": "code",
      "execution_count": null,
      "metadata": {
        "colab": {
          "base_uri": "https://localhost:8080/"
        },
        "id": "98oduHBUwCY_",
        "outputId": "f6e2c990-4c44-493d-d199-4cd117f88c74"
      },
      "outputs": [],
      "source": [
        "# Dimension and size of a tensor\n",
        "\n",
        "print(\"# This is a 1D tensor - 1 dimension, size 1\")\n",
        "shape = (1)\n",
        "x_rand = torch.rand(shape)                    \n",
        "print(x_rand,x_rand.shape)\n",
        "\n",
        "print(\"# This is also a 1D tensor - 1 dimension, size 2\")\n",
        "shape = (2)\n",
        "x_rand = torch.rand(shape)                    \n",
        "print(x_rand,x_rand.shape)\n",
        "\n",
        "print(\"# Reshape to a 2D row tensor\")\n",
        "x_rand_reshaped = x_rand.reshape(1,-1)        # 1 row\n",
        "print(x_rand_reshaped,x_rand_reshaped.shape)\n",
        "\n",
        "print(\"# Reshape to a 2D column tensor\")\n",
        "x_rand_reshaped = x_rand.reshape(-1,1)        \n",
        "print(x_rand_reshaped,x_rand_reshaped.shape)\n",
        "\n",
        "print(\"# 2D tensor of size (2,1)\")\n",
        "shape = (2,1)\n",
        "x_rand = torch.rand(shape)\n",
        "print(x_rand,x_rand.shape)\n",
        "\n",
        "print(\"# 3D tensor\")\n",
        "shape = (2,3,4)\n",
        "x_rand = torch.rand(shape)\n",
        "print(x_rand,x_rand.shape)\n",
        "\n",
        "print(\"# 4D tensor\")\n",
        "shape = (1,2,3,4)\n",
        "x_rand = torch.rand(shape)\n",
        "print(x_rand,x_rand.shape)"
      ]
    },
    {
      "cell_type": "code",
      "execution_count": 9,
      "metadata": {
        "colab": {
          "base_uri": "https://localhost:8080/"
        },
        "id": "k-IdHRf2z4rb",
        "outputId": "ea3c1879-80fa-46c9-f4a4-9dcf08b42dce"
      },
      "outputs": [
        {
          "name": "stdout",
          "output_type": "stream",
          "text": [
            "torch.Size([4000, 1, 28, 28])\n",
            "torch.Size([4000, 784])\n"
          ]
        }
      ],
      "source": [
        "# Change the shape of a tensor - adding another dimension\n",
        "x_rand = torch.rand([4000,28,28])\n",
        "y1 = x_rand.view(x_rand.size(0),1,28,28)\n",
        "print(y1.shape)\n",
        "#print(y1.size())   # Instead of .shape, you can use .size()\n",
        "\n",
        "# Change the shape of a tensor - flattening \n",
        "y2 = x_rand.view(x_rand.size(0),-1)\n",
        "print(y2.size())"
      ]
    },
    {
      "cell_type": "code",
      "execution_count": 8,
      "metadata": {
        "colab": {
          "base_uri": "https://localhost:8080/"
        },
        "id": "f4zCHAIk07Nr",
        "outputId": "758910b5-67e0-4f0c-b6e6-84803c35eb7f"
      },
      "outputs": [
        {
          "name": "stdout",
          "output_type": "stream",
          "text": [
            "torch.tensor( 1.0 ) >> torch.Size([])\n",
            "torch.tensor([ 1.0 ]) >> torch.Size([1])\n",
            "torch.tensor([ 1.0, 1.0 ]) >> torch.Size([2])\n",
            "torch.tensor([ [1.0] ]) >> torch.Size([1, 1])\n",
            "torch.tensor([ [1.0], [1.0] ]) >> torch.Size([2, 1])\n",
            "torch.tensor([ [1.0, 1.0] ]) >> torch.Size([1, 2])\n",
            "torch.Size([1, 2, 5])\n",
            "torch.Size([1, 2, 5])\n",
            "torch.Size([2, 2, 5])\n"
          ]
        }
      ],
      "source": [
        "# Check out the dimensions of the following\n",
        "\n",
        "x_seq = torch.tensor( 1.0 )\n",
        "print('torch.tensor( 1.0 ) >>', x_seq.shape) # 0 dimension\n",
        "\n",
        "#x_seq = torch.tensor( 1.0, 1.0 ) #ERROR! tensor takes 1 arg.\n",
        "#print(x_seq.shape)\n",
        "\n",
        "x_seq = torch.tensor( [1.0] )\n",
        "print('torch.tensor([ 1.0 ]) >>', x_seq.shape) # 1 dimension, size 1\n",
        "\n",
        "x_seq = torch.tensor( [1.0, 1.0] )\n",
        "print('torch.tensor([ 1.0, 1.0 ]) >>',x_seq.shape) # 1 dimension, size 2\n",
        "\n",
        "x_seq = torch.tensor([ [1.0] ]) # putting a second bracket adds another dim.\n",
        "print('torch.tensor([ [1.0] ]) >>', x_seq.shape) # 2 dimension, each size 1\n",
        "\n",
        "x_seq = torch.tensor([ [1.0], [1.0] ])\n",
        "print('torch.tensor([ [1.0], [1.0] ]) >>', x_seq.shape)\n",
        "\n",
        "x_seq = torch.tensor([ [1.0, 1.0] ])\n",
        "print('torch.tensor([ [1.0, 1.0] ]) >>', x_seq.shape)\n",
        "\n",
        "x_seq = torch.tensor( [ [ [1.0,1.0,1.0,1.0,1.0], [1.0,1.0,1.0,1.0,1.0] ] ] )\n",
        "print(x_seq.shape)\n",
        "\n",
        "x_seq = torch.tensor([ \n",
        "    [ [1.0,1.0,1.0,1.0,1.0], [1.0,1.0,1.0,1.0,1.0] ] \n",
        "])\n",
        "print(x_seq.shape)\n",
        "\n",
        "x_seq = torch.tensor([ \n",
        "    [ [1.0,1.0,1.0,1.0,1.0], [1.0,1.0,1.0,1.0,1.0] ],\n",
        "    [ [1.0,1.0,1.0,1.0,1.0], [1.0,1.0,1.0,1.0,1.0] ] \n",
        "])\n",
        "print(x_seq.shape)\n"
      ]
    },
    {
      "cell_type": "code",
      "execution_count": 9,
      "metadata": {
        "colab": {
          "base_uri": "https://localhost:8080/"
        },
        "id": "3q4Uaqvyw8cf",
        "outputId": "619ce8d9-361a-4e45-c84c-c7e2b5aef2bd"
      },
      "outputs": [
        {
          "name": "stdout",
          "output_type": "stream",
          "text": [
            "tensor([[0.5920, 0.6750, 0.9945],\n",
            "        [0.3830, 0.3742, 0.1446]])\n",
            "First row: tensor([0.5920, 0.6750, 0.9945])\n",
            "First row: tensor([0.5920, 0.6750, 0.9945])\n",
            "First column: tensor([0.5920, 0.3830])\n",
            "Last column: tensor([0.9945, 0.1446])\n",
            "A slice: tensor([[0.5920, 0.6750],\n",
            "        [0.3830, 0.3742]])\n",
            "A detached element: 0.592011570930481\n"
          ]
        }
      ],
      "source": [
        "# You can slice a tensor\n",
        "x_rand = torch.rand((2,3))\n",
        "print(x_rand)\n",
        "print(f\"First row: {x_rand[0]}\")\n",
        "print(f\"First row: {x_rand[0,:]}\")\n",
        "print(f\"First column: {x_rand[:, 0]}\")\n",
        "print(f\"Last column: {x_rand[:, -1]}\")\n",
        "print(f\"A slice: {x_rand[0:2, 0:2]}\")\n",
        "print(f\"A detached element: {x_rand[0,0].item()}\")"
      ]
    },
    {
      "cell_type": "code",
      "execution_count": 10,
      "metadata": {
        "colab": {
          "base_uri": "https://localhost:8080/"
        },
        "id": "fau7FpQo4EdU",
        "outputId": "e9ec22c0-fbf7-4961-a810-5ac9ddfc0c2c"
      },
      "outputs": [
        {
          "name": "stdout",
          "output_type": "stream",
          "text": [
            "torch.Size([1, 3, 5])\n",
            "tensor([[[ 1.6154, -0.1074,  0.6614, -0.4766,  1.0111],\n",
            "         [-1.4426,  1.5684,  0.1512,  1.4251,  0.6145],\n",
            "         [ 1.6768,  0.4665,  0.6591, -0.4032, -1.0955]]])\n",
            "tensor([ 1.6154, -0.1074,  0.6614, -0.4766,  1.0111])\n",
            "tensor([-1.4426,  1.5684,  0.1512,  1.4251,  0.6145])\n"
          ]
        }
      ],
      "source": [
        "# Slice at higher dimensions\n",
        "x_seq = torch.randn(1,3,5)\n",
        "print(x_seq.shape)\n",
        "\n",
        "print(x_seq)\n",
        "\n",
        "# At the first time instant, the feature vector is\n",
        "print(x_seq[0,0,:])\n",
        "\n",
        "# At the second time instant, the feature vector is\n",
        "print(x_seq[0,1,:])"
      ]
    },
    {
      "cell_type": "code",
      "execution_count": 11,
      "metadata": {
        "colab": {
          "base_uri": "https://localhost:8080/"
        },
        "id": "cGyntdPiy1h0",
        "outputId": "6f6fff98-54ac-4d4c-e7fa-be7074733702"
      },
      "outputs": [
        {
          "name": "stdout",
          "output_type": "stream",
          "text": [
            "tensor([[1., 1., 1., 1., 1., 1.]])\n",
            "tensor([[1., 1.],\n",
            "        [1., 1.],\n",
            "        [1., 1.]])\n"
          ]
        }
      ],
      "source": [
        "# Concatenate tensors\n",
        "t = torch.ones((1,2))\n",
        "t1 = torch.cat([t, t, t],dim=1)   # horizontally\n",
        "print(t1)\n",
        "t2 = torch.cat([t, t, t],dim=0)   # vertically\n",
        "print(t2)"
      ]
    },
    {
      "cell_type": "code",
      "execution_count": 12,
      "metadata": {
        "colab": {
          "base_uri": "https://localhost:8080/"
        },
        "id": "4xEkjNS9zoVJ",
        "outputId": "56517238-a967-4d5e-c368-350740d8de2f"
      },
      "outputs": [
        {
          "name": "stdout",
          "output_type": "stream",
          "text": [
            "tensor([[2.]])\n",
            "tensor([[2.]])\n",
            "tensor([[1., 1.]])\n",
            "tensor([[1., 1.]])\n"
          ]
        }
      ],
      "source": [
        "# Arithmetic operations\n",
        "t1 = torch.ones((1,2))\n",
        "\n",
        "# - matrix multiplication\n",
        "y1 = t1 @ t1.T\n",
        "print(y1)\n",
        "y2 = t1.matmul(t1.T)\n",
        "print(y2)\n",
        "\n",
        "# - element-wise multiplication\n",
        "z1 = t1 * t1\n",
        "print(z1)\n",
        "z2 = t1.mul(t1)\n",
        "print(z2)"
      ]
    }
  ],
  "metadata": {
    "colab": {
      "provenance": []
    },
    "kernelspec": {
      "display_name": "Python 3",
      "name": "python3"
    },
    "language_info": {
      "codemirror_mode": {
        "name": "ipython",
        "version": 3
      },
      "file_extension": ".py",
      "mimetype": "text/x-python",
      "name": "python",
      "nbconvert_exporter": "python",
      "pygments_lexer": "ipython3",
      "version": "3.10.12"
    }
  },
  "nbformat": 4,
  "nbformat_minor": 0
}
