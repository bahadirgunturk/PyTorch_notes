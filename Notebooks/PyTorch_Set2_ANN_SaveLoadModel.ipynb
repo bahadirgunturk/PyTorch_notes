{
  "cells": [
    {
      "cell_type": "markdown",
      "metadata": {
        "id": "VAlcIJO7KLfY"
      },
      "source": [
        "**Fully Connected NN and Saving-Loading Models**\n",
        "\n",
        "\n",
        "---\n",
        "\n"
      ]
    },
    {
      "cell_type": "markdown",
      "metadata": {
        "id": "By49fO97n8mi"
      },
      "source": [
        "*Building ANN model*"
      ]
    },
    {
      "cell_type": "code",
      "execution_count": null,
      "metadata": {
        "id": "h1t5UEOMJ1A9"
      },
      "outputs": [],
      "source": [
        "import torch\n",
        "from torchvision import datasets\n",
        "from torchvision import transforms\n",
        "\n",
        "# Create a transform to be applied to each sample\n",
        "transform1 = transforms.Compose([\n",
        "    transforms.ToTensor(),  # converts PIL image or numpy array (HxWxC) into a \n",
        "                            #   torch.FloatTensor (CxHxW), scales it to [0,1] \n",
        "    transforms.Normalize(mean=[0.5],std=[0.5]) # for 1 channel\n",
        "                            #   [0.5,0.5,0.5] for 3 channels\n",
        "                            # Conversion from RGB to gray could also be useful\n",
        "                            # Transforms can also be added to the dataloader\n",
        "    ])\n",
        "\n",
        "# Download the dataset and apply the transform for each sample\n",
        "train_data = datasets.MNIST(\n",
        "    root=\"data\",\n",
        "    train=True,\n",
        "    download=True,\n",
        "    transform = transform1\n",
        "    )\n",
        "\n",
        "test_data = datasets.MNIST(\n",
        "    root=\"data\",\n",
        "    train=False,\n",
        "    download=True,\n",
        "    transform = transform1\n",
        "    )"
      ]
    },
    {
      "cell_type": "code",
      "execution_count": 2,
      "metadata": {
        "colab": {
          "base_uri": "https://localhost:8080/",
          "height": 316
        },
        "id": "7jpYybFOKve6",
        "outputId": "e74739d2-79a0-4ac1-94da-b977ed02123a"
      },
      "outputs": [
        {
          "name": "stdout",
          "output_type": "stream",
          "text": [
            "torch.Size([28, 28]) tensor(255, dtype=torch.uint8)\n"
          ]
        },
        {
          "data": {
            "text/plain": [
              "Text(0.5, 1.0, '5 - five')"
            ]
          },
          "execution_count": 2,
          "metadata": {},
          "output_type": "execute_result"
        },
        {
          "data": {
            "image/png": "[encoded data removed]",
            "text/plain": [
              "<Figure size 640x480 with 1 Axes>"
            ]
          },
          "metadata": {},
          "output_type": "display_data"
        }
      ],
      "source": [
        "from matplotlib import pyplot as plt\n",
        "\n",
        "# Take a look at a sample\n",
        "sample_id = 0\n",
        "image = train_data.data[sample_id]        \n",
        "label = train_data.targets[sample_id]\n",
        "\n",
        "print(image.shape, image.max())     # Note: image is not yet reshaped or normalized\n",
        "\n",
        "plt.imshow(image, cmap=\"gray\")      # .squeeze() if img.shape is (1,28,28)\n",
        "plt.title(train_data.classes[label.item()])\n",
        "\n"
      ]
    },
    {
      "cell_type": "markdown",
      "metadata": {
        "id": "Rir76kIxNB3l"
      },
      "source": [
        "*Define a fully connected model*"
      ]
    },
    {
      "cell_type": "code",
      "execution_count": 3,
      "metadata": {
        "colab": {
          "base_uri": "https://localhost:8080/"
        },
        "id": "4UErToeyX7YI",
        "outputId": "11a81bfc-43cd-4e99-9c56-c0a8df9cd5d3"
      },
      "outputs": [
        {
          "name": "stdout",
          "output_type": "stream",
          "text": [
            "Sequential(\n",
            "  (0): Flatten(start_dim=1, end_dim=-1)\n",
            "  (1): Linear(in_features=784, out_features=512, bias=True)\n",
            "  (2): ReLU()\n",
            "  (3): Linear(in_features=512, out_features=512, bias=True)\n",
            "  (4): ReLU()\n",
            "  (5): Linear(in_features=512, out_features=10, bias=True)\n",
            ")\n",
            "Linear(in_features=784, out_features=512, bias=True)\n"
          ]
        }
      ],
      "source": [
        "# First, do it with nn.Sequential()\n",
        "import torch.nn as nn\n",
        "\n",
        "MyModel1 = nn.Sequential(\n",
        "    nn.Flatten(start_dim=1),    # To preserve batch_size, start_dim=1 (default)\n",
        "    nn.Linear(28*28, 512),\n",
        "    nn.ReLU(),\n",
        "    nn.Linear(512, 512),\n",
        "    nn.ReLU(),\n",
        "    nn.Linear(512, 10)\n",
        ")\n",
        "\n",
        "print(MyModel1)\n",
        "print(MyModel1[1])  # Access a specific layer of the model\n"
      ]
    },
    {
      "cell_type": "code",
      "execution_count": 4,
      "metadata": {
        "colab": {
          "base_uri": "https://localhost:8080/"
        },
        "id": "Wx_LMsc8bOvk",
        "outputId": "8c32a471-d810-4b67-c90e-e9a8c40cf985"
      },
      "outputs": [
        {
          "data": {
            "text/plain": [
              "torch.Size([32, 25])"
            ]
          },
          "execution_count": 4,
          "metadata": {},
          "output_type": "execute_result"
        }
      ],
      "source": [
        "# NOTE: nn.Flatten() has default start_dim 1\n",
        "# That means, it will preserve the batch size; for instance:\n",
        "input = torch.randn(32, 1, 5, 5)\n",
        "m = nn.Flatten()\n",
        "output = m(input)\n",
        "output.size()"
      ]
    },
    {
      "cell_type": "code",
      "execution_count": 5,
      "metadata": {
        "id": "Z2I3PKjgNI8Y"
      },
      "outputs": [],
      "source": [
        "# Second, do it as nn.Module class\n",
        "import torch.nn as nn\n",
        "\n",
        "# A fully connected model\n",
        "class MyModel2(nn.Module):\n",
        "    def __init__(self):\n",
        "        super().__init__()\n",
        "        self.flatten = nn.Flatten()\n",
        "        self.linear_relu_stack = nn.Sequential(\n",
        "            nn.Linear(28*28, 512),\n",
        "            nn.ReLU(),\n",
        "            nn.Linear(512, 512),\n",
        "            nn.ReLU(),\n",
        "            nn.Linear(512, 10)\n",
        "        )\n",
        "\n",
        "    def forward(self, x):\n",
        "        x = self.flatten(x)\n",
        "\n",
        "        # When .view() is used, you should preserve the batch size:\n",
        "        # batch_size = x.size(0)\n",
        "        # x.view(batch_size,-1)\n",
        "        \n",
        "        logits = self.linear_relu_stack(x)\n",
        "        return logits\n"
      ]
    },
    {
      "cell_type": "markdown",
      "metadata": {
        "id": "l-_jZIikSGnJ"
      },
      "source": [
        "*Set the device*"
      ]
    },
    {
      "cell_type": "code",
      "execution_count": 15,
      "metadata": {
        "colab": {
          "base_uri": "https://localhost:8080/"
        },
        "id": "tjpKqHRLSL5A",
        "outputId": "6ed06690-b7ed-4f77-f33b-061bb9f10501"
      },
      "outputs": [
        {
          "name": "stdout",
          "output_type": "stream",
          "text": [
            "MyModel2(\n",
            "  (flatten): Flatten(start_dim=1, end_dim=-1)\n",
            "  (linear_relu_stack): Sequential(\n",
            "    (0): Linear(in_features=784, out_features=512, bias=True)\n",
            "    (1): ReLU()\n",
            "    (2): Linear(in_features=512, out_features=512, bias=True)\n",
            "    (3): ReLU()\n",
            "    (4): Linear(in_features=512, out_features=10, bias=True)\n",
            "  )\n",
            ")\n"
          ]
        }
      ],
      "source": [
        "device = \"cuda\" if torch.cuda.is_available() else \"cpu\"\n",
        "model = MyModel2().to(device)   # send the model to device\n",
        "\n",
        "print(model) #check out the model"
      ]
    },
    {
      "cell_type": "markdown",
      "metadata": {
        "id": "5cWQ_r5-SuEL"
      },
      "source": [
        "*Pass a random input to check the model*"
      ]
    },
    {
      "cell_type": "code",
      "execution_count": 18,
      "metadata": {
        "colab": {
          "base_uri": "https://localhost:8080/"
        },
        "id": "tduF7EtgS136",
        "outputId": "dbed3d77-2087-4b57-ec35-bcb9d48e6a59"
      },
      "outputs": [
        {
          "name": "stdout",
          "output_type": "stream",
          "text": [
            "torch.Size([1, 10])\n",
            "torch.Size([32, 10])\n"
          ]
        }
      ],
      "source": [
        "# single input\n",
        "x = torch.randn((1,28,28),dtype=torch.float32)\n",
        "x = x.to(device)    # the model and input should be on the same device!\n",
        "y_pred = model(x)\n",
        "print(y_pred.shape)\n",
        "\n",
        "# batch input\n",
        "x = torch.randn((32,1,28,28),dtype=torch.float32)\n",
        "x = x.to(device)    # the model and input should be on the same device!\n",
        "y_pred = model(x)\n",
        "print(y_pred.shape)\n",
        "\n"
      ]
    },
    {
      "cell_type": "code",
      "execution_count": 21,
      "metadata": {
        "colab": {
          "base_uri": "https://localhost:8080/"
        },
        "id": "aiI7GPPZdk6G",
        "outputId": "fb76bcee-c679-4f2a-cee9-b805a35929c9"
      },
      "outputs": [
        {
          "name": "stdout",
          "output_type": "stream",
          "text": [
            "torch.Size([32, 10])\n"
          ]
        }
      ],
      "source": [
        "# repeat the above with the first model\n",
        "# batch input\n",
        "x = torch.randn((32,1,28,28),dtype=torch.float32)\n",
        "x = x.to(device)    \n",
        "# y_pred = MyModel1(x) # This will give error b/c MyModel1 is not send to device\n",
        "y_pred = MyModel1.to(device)(x)\n",
        "print(y_pred.shape)\n"
      ]
    },
    {
      "cell_type": "markdown",
      "metadata": {
        "id": "kHm667VbVNce"
      },
      "source": [
        "*Create dataloader*"
      ]
    },
    {
      "cell_type": "code",
      "execution_count": 22,
      "metadata": {
        "id": "wCiSc92ZVRXx"
      },
      "outputs": [],
      "source": [
        "from torch.utils.data import DataLoader #creates an iterable around a dataset\n",
        "\n",
        "batch_size = 64\n",
        "\n",
        "train_dataloader = DataLoader(train_data,batch_size,shuffle=True)\n",
        "test_dataloader = DataLoader(test_data,batch_size,shuffle=False)"
      ]
    },
    {
      "cell_type": "markdown",
      "metadata": {
        "id": "2szzp7sGTwa0"
      },
      "source": [
        "*Set the loss function*"
      ]
    },
    {
      "cell_type": "code",
      "execution_count": 23,
      "metadata": {
        "id": "NXlq4U5_T2Te"
      },
      "outputs": [],
      "source": [
        "loss_fn = nn.CrossEntropyLoss()"
      ]
    },
    {
      "cell_type": "markdown",
      "metadata": {
        "id": "PmYeBzaeUAJY"
      },
      "source": [
        "*Set the optimizer*"
      ]
    },
    {
      "cell_type": "code",
      "execution_count": 24,
      "metadata": {
        "id": "rIBZS9v-UCfa"
      },
      "outputs": [],
      "source": [
        "optimizer = torch.optim.SGD(model.parameters(),lr=1e-3)"
      ]
    },
    {
      "cell_type": "markdown",
      "metadata": {
        "id": "fROrl6xPV1Oo"
      },
      "source": [
        "*Train the model*"
      ]
    },
    {
      "cell_type": "code",
      "execution_count": null,
      "metadata": {
        "id": "jOxRBELYV44a"
      },
      "outputs": [],
      "source": [
        "num_epochs = 100\n",
        "\n",
        "# Put the model in training mode\n",
        "model.train()\n",
        "\n",
        "for epoch in range(num_epochs):\n",
        "  for X,y in train_dataloader:\n",
        "\n",
        "    # Send to device\n",
        "    X = X.to(device)  \n",
        "    y = y.to(device)\n",
        "\n",
        "    # Make a prediction\n",
        "    y_pred = model(X)\n",
        "\n",
        "    # Compute loss\n",
        "    loss = loss_fn(y_pred,y)\n",
        "\n",
        "    # Zero the gradients\n",
        "    optimizer.zero_grad()\n",
        "\n",
        "    # Propagate loss backward\n",
        "    loss.backward()\n",
        "\n",
        "    # Update the parameters\n",
        "    optimizer.step()\n",
        "\n",
        "  print(f\"Epoch: {epoch}/{num_epochs}, Loss: {loss.item():0.4f}\")\n"
      ]
    },
    {
      "cell_type": "markdown",
      "metadata": {
        "id": "SJRuAReKZD4N"
      },
      "source": [
        "*Test the model*"
      ]
    },
    {
      "cell_type": "code",
      "execution_count": null,
      "metadata": {
        "colab": {
          "base_uri": "https://localhost:8080/"
        },
        "id": "Dq-OFqZPZGDz",
        "outputId": "35a24489-c8f2-4f90-a0be-c1a90052ef2c"
      },
      "outputs": [
        {
          "name": "stdout",
          "output_type": "stream",
          "text": [
            "Accuracy: 0.8213, Avg loss: 0.0078\n"
          ]
        }
      ],
      "source": [
        "# Put the model in test mode\n",
        "model.eval()\n",
        "\n",
        "# Initialize some parameters to get the loss values\n",
        "total_loss = 0\n",
        "total_correct = 0\n",
        "dataset_size = len(test_dataloader.dataset)\n",
        "\n",
        "# Gradients will not be calculated\n",
        "with torch.no_grad():\n",
        "  for X,y in test_dataloader:\n",
        "    X = X.to(device)\n",
        "    y = y.to(device)\n",
        "\n",
        "    y_pred = model(X)\n",
        "\n",
        "    # Calculate loss\n",
        "    total_loss += loss_fn(y_pred, y).item()\n",
        "    total_correct += (y_pred.argmax(1) == y).type(torch.float).sum().item()\n",
        "  \n",
        "  print(f\"Accuracy: {total_correct/dataset_size:0.4f}, Avg loss: {total_loss/dataset_size:0.4f}\")"
      ]
    },
    {
      "cell_type": "markdown",
      "metadata": {
        "id": "--oaUY9BbDe4"
      },
      "source": [
        "*Check out the model on a single input*"
      ]
    },
    {
      "cell_type": "code",
      "execution_count": null,
      "metadata": {
        "colab": {
          "base_uri": "https://localhost:8080/",
          "height": 298
        },
        "id": "Hp_tvtIHbKS1",
        "outputId": "ddbc65b6-418c-4bc3-9415-915b35667ec0"
      },
      "outputs": [
        {
          "data": {
            "text/plain": [
              "Text(0.5, 1.0, 'Trouser')"
            ]
          },
          "execution_count": 59,
          "metadata": {},
          "output_type": "execute_result"
        },
        {
          "data": {
            "image/png": "[encoded data removed]",
            "text/plain": [
              "<Figure size 432x288 with 1 Axes>"
            ]
          },
          "metadata": {
            "needs_background": "light"
          },
          "output_type": "display_data"
        }
      ],
      "source": [
        "X,y = next(iter(test_dataloader))\n",
        "X = X.to(device)\n",
        "y = y.to(device)\n",
        "\n",
        "# Get a specific sample\n",
        "sample_id = 2\n",
        "X0 = X[sample_id]\n",
        "y0 = y[sample_id]\n",
        "\n",
        "# Make the prediction. It is of vector size 10; get the argmax\n",
        "y_pred = model(X0).argmax(1)\n",
        "\n",
        "# The shape is (1,28,28). Convert it to (28,28)\n",
        "#print(X0.shape)\n",
        "#print(X0.squeeze().shape)\n",
        "\n",
        "# After squeezing, move it to cpu, convert to numpy, and gray scale \n",
        "plt.imshow(X0.squeeze().cpu().numpy(), cmap=\"gray\")\n",
        "plt.title(train_data.classes[y_pred.item()])"
      ]
    },
    {
      "cell_type": "markdown",
      "metadata": {
        "id": "15e7opwNd7hm"
      },
      "source": [
        "*Save the model*"
      ]
    },
    {
      "cell_type": "code",
      "execution_count": null,
      "metadata": {
        "colab": {
          "base_uri": "https://localhost:8080/"
        },
        "id": "g3wp3CyNd9vd",
        "outputId": "6d246814-ff6c-4d7b-c851-9718dd198ac4"
      },
      "outputs": [
        {
          "data": {
            "text/plain": [
              "<All keys matched successfully>"
            ]
          },
          "execution_count": 60,
          "metadata": {},
          "output_type": "execute_result"
        }
      ],
      "source": [
        "# Save a model\n",
        "torch.save(model.state_dict(), \"model.pth\")\n",
        "\n",
        "# Load a model\n",
        "model = MyModel2()\n",
        "model.load_state_dict(torch.load(\"model.pth\"))\n"
      ]
    }
  ],
  "metadata": {
    "accelerator": "GPU",
    "colab": {
      "provenance": []
    },
    "kernelspec": {
      "display_name": "Python 3",
      "name": "python3"
    },
    "language_info": {
      "codemirror_mode": {
        "name": "ipython",
        "version": 3
      },
      "file_extension": ".py",
      "mimetype": "text/x-python",
      "name": "python",
      "nbconvert_exporter": "python",
      "pygments_lexer": "ipython3",
      "version": "3.10.12"
    }
  },
  "nbformat": 4,
  "nbformat_minor": 0
}
