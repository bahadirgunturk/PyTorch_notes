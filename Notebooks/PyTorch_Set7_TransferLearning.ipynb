{
  "cells": [
    {
      "cell_type": "markdown",
      "metadata": {
        "id": "NIzf09RxXY41"
      },
      "source": [
        "**Transfer Learning**\n",
        "\n",
        "\n",
        "---\n",
        "\n"
      ]
    },
    {
      "cell_type": "code",
      "execution_count": null,
      "metadata": {
        "id": "Sz_23M5skjfX"
      },
      "outputs": [],
      "source": [
        "import torch\n",
        "import torch.nn as nn\n",
        "import torch.nn.functional as F\n",
        "import torchvision\n",
        "from torchvision import transforms\n",
        "import matplotlib.pyplot as plt\n",
        "\n",
        "# Device configuration\n",
        "device = torch.device('cuda' if torch.cuda.is_available() else 'cpu')\n",
        "\n",
        "# Hyper-parameters\n",
        "image_size = 784\n",
        "num_epochs = 100\n",
        "batch_size = 128\n",
        "learning_rate = 1e-2\n",
        "\n",
        "# image transform\n",
        "transform1 = transforms.Compose([transforms.Resize(64),\n",
        "                                 transforms.Grayscale(3), #return 3 channels \n",
        "                                 transforms.ToTensor()])\n",
        "\n",
        "# download train dataset\n",
        "train_dataset = torchvision.datasets.MNIST(root='./mnist_data/',\n",
        "                                           train=True,\n",
        "                                           transform=transform1,\n",
        "                                           download=True)\n",
        "\n",
        "# download test dataset\n",
        "test_dataset = torchvision.datasets.MNIST(root='./mnist_data/',\n",
        "                                           train=False,\n",
        "                                           transform=transform1,\n",
        "                                           download=True)\n",
        "\n",
        "# Data loaders\n",
        "train_loader = torch.utils.data.DataLoader(dataset=train_dataset,\n",
        "                                           batch_size=batch_size, \n",
        "                                           shuffle=True)\n",
        "\n",
        "test_loader =  torch.utils.data.DataLoader(dataset=train_dataset,\n",
        "                                           batch_size=batch_size, \n",
        "                                           shuffle=True)\n",
        "\n"
      ]
    },
    {
      "cell_type": "code",
      "execution_count": null,
      "metadata": {},
      "outputs": [],
      "source": [
        "# Define a function to train the model for one epoch\n",
        "def train_model(model, optimizer, loss_function, train_loader):\n",
        "  \n",
        "  # Put model in train mode\n",
        "  model.train()\n",
        "\n",
        "  # For loss calculation\n",
        "  total_loss = 0\n",
        "  total_correct = 0\n",
        "  dataset_size = len(train_loader.dataset)\n",
        "\n",
        "  # Go over each batch\n",
        "  for X, y in train_loader:\n",
        "    X = X.to(device)\n",
        "    y = y.to(device)\n",
        "\n",
        "    y_pred = model(X)\n",
        "\n",
        "    loss = loss_function(y_pred,y)  \n",
        "    # In the above\n",
        "    #   input:y_pred is logits, target y is integer index.\n",
        "    #   target could also be a vector of probabilities\n",
        "    #     in that case, y.softmax(1) could be used to convert to probabilities  \n",
        "    \n",
        "    # Zero the gradients, backpropagate the gradients, update the parameters\n",
        "    optimizer.zero_grad()\n",
        "    loss.backward()\n",
        "    optimizer.step()\n",
        "\n",
        "    # Calculate loss\n",
        "    total_loss += loss_function(y_pred, y).item()\n",
        "    total_correct += (y_pred.argmax(1) == y).type(torch.float).sum().item()\n",
        "\n",
        "  print(f\"Training Loss:{total_loss/dataset_size:0.4f}, \\\n",
        "          Training Accuracy:{total_correct/dataset_size:0.4f}\")\n",
        "\n",
        "\n",
        "# Define a function to test the model\n",
        "def test_model(model, loss_function, test_loader):\n",
        "  # Put the model into evaluation mode\n",
        "  model.eval()\n",
        "\n",
        "  # For loss calculation\n",
        "  total_loss = 0\n",
        "  total_correct = 0\n",
        "  dataset_size = len(test_loader.dataset)\n",
        "\n",
        "  # Do not calculate gradients\n",
        "  with torch.no_grad():\n",
        "    for X,y in test_loader:\n",
        "      X = X.to(device)\n",
        "      y = y.to(device)\n",
        "\n",
        "      y_pred = model(X)\n",
        "\n",
        "      # Calculate loss\n",
        "      total_loss += loss_function(y_pred, y).item()\n",
        "      total_correct += (y_pred.argmax(1) == y).type(torch.float).sum().item()\n",
        "  \n",
        "  print(f\"Test Loss: {total_loss/dataset_size:0.4f}, \\\n",
        "          Test Accuracy: {total_correct/dataset_size:0.4f}\")"
      ]
    },
    {
      "cell_type": "code",
      "execution_count": null,
      "metadata": {
        "colab": {
          "base_uri": "https://localhost:8080/",
          "height": 507
        },
        "id": "-4-4TKzJVlzq",
        "outputId": "86eafd7e-d027-40f1-c219-f1fcf11055c2"
      },
      "outputs": [],
      "source": [
        "# Check out images in the dataset\n",
        "print(train_dataset)\n",
        "#print(train_dataset[0]) # is a tuple of (data,target)\n",
        "print(train_dataset[0][0].shape)  # image (a tensor)\n",
        "print(train_dataset[0][1])        # label (an integer)\n",
        "\n",
        "\n",
        "#print(train_dataset.data.shape)   # all images in the dataset\n",
        "\n",
        "# Look at a sample\n",
        "idx = 0\n",
        "image0 = train_dataset.data[idx]\n",
        "label0 = train_dataset.targets[idx]\n",
        "\n",
        "# The above image0 is of size [28,28], not yet transformed\n",
        "# Dataloader will do the transform and output it in batches\n",
        "image, label = next(iter(train_loader))\n",
        "# The image is of size [128,3,64,64]\n",
        "\n",
        "# To display a single image\n",
        "image1 = image[0].squeeze()     # get the 0th image in batch\n",
        "image1 = image1.permute(1,2,0)  # channel goes to the end\n",
        "image1 = image1.numpy()         # from tensor to numpy\n",
        "label1 = label[0].item()\n",
        "\n",
        "plt.imshow(image1)\n",
        "plt.title(label1)\n"
      ]
    },
    {
      "cell_type": "markdown",
      "metadata": {
        "id": "yHqhd9g2aq1F"
      },
      "source": [
        "Download a model "
      ]
    },
    {
      "cell_type": "code",
      "execution_count": null,
      "metadata": {
        "colab": {
          "base_uri": "https://localhost:8080/"
        },
        "id": "eyo0byJB3wPa",
        "outputId": "7a4f7b35-0a21-4181-cd71-f3ef1e1b5596"
      },
      "outputs": [],
      "source": [
        "model1 = torchvision.models.vgg19(pretrained=True).to(device)\n",
        "print(model1)\n",
        "\n",
        "!pip install torchinfo\n",
        "from torchinfo import summary\n",
        "summary(model1, (1, 3, 32,32), col_names=[\"kernel_size\", \"output_size\", \"num_params\"])\n",
        "\n"
      ]
    },
    {
      "cell_type": "code",
      "execution_count": null,
      "metadata": {
        "colab": {
          "base_uri": "https://localhost:8080/"
        },
        "id": "Ipgpbuc8eKk6",
        "outputId": "4e14f2b8-c458-4a88-b05a-a53b8585c903"
      },
      "outputs": [],
      "source": [
        "# You can access the modules/layers inside model\n",
        "#print(model1)\n",
        "#print(model1.features)\n",
        "#print(model1.avgpool)\n",
        "print(model1.classifier)\n",
        "print(model1.classifier[0])\n",
        "print(model1.classifier.parameters)\n"
      ]
    },
    {
      "cell_type": "code",
      "execution_count": null,
      "metadata": {
        "colab": {
          "base_uri": "https://localhost:8080/"
        },
        "id": "OXfBDjxC0xf-",
        "outputId": "fe8d2500-e3bc-4e45-a56a-0e869776cef9"
      },
      "outputs": [],
      "source": [
        "# Get another copy of the model and play with it\n",
        "model2 = torchvision.models.vgg19(pretrained=True).to(device)\n",
        "\n",
        "# Freeze the parameters in the features part\n",
        "for param in model2.features.parameters():\n",
        "  param.requires_grad = False\n",
        "\n",
        "# Create an identity network; you can replace a part of the network\n",
        "#class identity_block(torch.nn.Module):\n",
        "#  def __init__(self):\n",
        "#    super().__init__()\n",
        "#  def forward(self,x):\n",
        "#    return x\n",
        "# For example, \n",
        "#model2.avgpool = identity_block()\n",
        "# OR\n",
        "#model2.avgpool = torch.nn.Identity()\n",
        "\n",
        "# Replace the last layer of the classifier to have 5 out_features\n",
        "#model2.classifier[6] = nn.Linear(in_features=4096,out_features=5)\n",
        "#print(model2)\n",
        "\n",
        "# Create a new classifier block\n",
        "class new_block(torch.nn.Module):\n",
        "  def __init__(self):\n",
        "    super().__init__()\n",
        "    self.linear1 = nn.Linear(in_features=25088, out_features=100)\n",
        "    self.relu = nn.ReLU()\n",
        "    self.dropout1 = nn.Dropout()\n",
        "    self.linear2 = nn.Linear(in_features=100,out_features=5)\n",
        "  \n",
        "  def forward(self,x):\n",
        "    x = self.linear1(x)\n",
        "    x = self.relu(x)\n",
        "    x = self.dropout1(x)\n",
        "    x = self.linear2(x)\n",
        "    # x = self.dropout1(x) # Adding this would not change print(model) but\n",
        "    #   the forward process would change\n",
        "    #   Note that when you print(model), it does not show flattening...\n",
        "    return x\n",
        "\n",
        "# Replace the existing block\n",
        "model2.classifier = new_block()\n",
        "# OR \n",
        "'''\n",
        "model2.classifier = nn.Sequential(\n",
        "    nn.Linear(in_features=25088, out_features=100),\n",
        "    nn.ReLU(),\n",
        "    nn.Dropout(),\n",
        "    nn.Linear(in_features=100,out_features=5))\n",
        "'''\n",
        "\n",
        "print(model2)\n",
        "\n",
        "# Access a specific layer\n",
        "#print(model2.classifier.linear1)\n",
        "# OR\n",
        "#print(model2.classifier[0])\n",
        "\n",
        " "
      ]
    },
    {
      "cell_type": "code",
      "execution_count": null,
      "metadata": {
        "colab": {
          "base_uri": "https://localhost:8080/"
        },
        "id": "PElIZcqu37Ip",
        "outputId": "ff87fb1d-5636-4667-bed3-9e41144ce8ab"
      },
      "outputs": [],
      "source": [
        "# Take part of a model\n",
        "#   Create a list and unpack it (with *) for nn.Sequential\n",
        "model_part = nn.Sequential(*[model2.features[i] for i in range(31)])\n",
        "print(model_part)\n",
        "\n",
        "# Check out the weights; they should be equal\n",
        "for param in model2.features[0].parameters():\n",
        "  print(param.data[0])\n",
        "  print(param.requires_grad)\n",
        "  \n",
        "\n",
        "for param in model_part[0].parameters():\n",
        "  print(param.data[0])\n",
        "  print(param.requires_grad)\n",
        "  "
      ]
    },
    {
      "cell_type": "code",
      "execution_count": null,
      "metadata": {
        "colab": {
          "base_uri": "https://localhost:8080/"
        },
        "id": "adbcPPYX607A",
        "outputId": "6a3549ba-2f1a-4c88-d5cd-f580a3e021f6"
      },
      "outputs": [],
      "source": [
        "# Now, pass a random input, check out the dimension of the model_part\n",
        "#image, label = next(iter(train_loader))\n",
        "image = torch.randn((1,3,64,64)).to(device)\n",
        "y = model_part(image)\n",
        "print(y.shape)\n",
        "#>> torch.Size([1, 512, 4, 4])\n",
        "\n",
        "# Using shape info, you can create a new block and append to model_part\n",
        "model_part2 = nn.Sequential(\n",
        "    nn.Flatten(),   \n",
        "    # The above is part of nn.module. Compare with nn.flatten()\n",
        "    # ... If a class is written, in .forward, you can write x.view(-1,512*4*4)\n",
        "    # For vgg19, print(model) doesn't display .forward but the defined layers\n",
        "    nn.Linear(in_features=512*4*4, out_features=100),\n",
        "    nn.ReLU(),\n",
        "    nn.Dropout(),\n",
        "    nn.Linear(in_features=100,out_features=10))\n",
        "\n",
        "#print(model_part2)\n",
        "\n",
        "# Append these blocks\n",
        "model3 = nn.Sequential(model_part,model_part2).to(device)\n",
        "print(model3)\n",
        "#print(model3[0][0])\n",
        "\n",
        "y2 = model3(image)\n",
        "print(y2.shape)\n"
      ]
    },
    {
      "cell_type": "code",
      "execution_count": null,
      "metadata": {
        "id": "ZNLyC75tB5Qv"
      },
      "outputs": [],
      "source": [
        "# Let's train\n",
        "loss_function = torch.nn.CrossEntropyLoss()     \n",
        "optimizer = torch.optim.SGD(model3.parameters(),lr=0.001)\n",
        "\n",
        "num_epochs = 100\n",
        "\n",
        "for epoch in range(num_epochs):\n",
        "  print('Epoch:',epoch)\n",
        "  # Train loss\n",
        "  train_model(model3, optimizer, loss_function, train_loader)\n",
        "\n",
        "  # Test loss\n",
        "  test_model(model3, loss_function, test_loader)"
      ]
    }
  ],
  "metadata": {
    "accelerator": "GPU",
    "colab": {
      "provenance": []
    },
    "gpuClass": "standard",
    "kernelspec": {
      "display_name": "Python 3",
      "name": "python3"
    },
    "language_info": {
      "codemirror_mode": {
        "name": "ipython",
        "version": 3
      },
      "file_extension": ".py",
      "mimetype": "text/x-python",
      "name": "python",
      "nbconvert_exporter": "python",
      "pygments_lexer": "ipython3",
      "version": "3.11.3"
    }
  },
  "nbformat": 4,
  "nbformat_minor": 0
}
