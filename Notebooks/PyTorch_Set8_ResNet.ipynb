{
  "nbformat": 4,
  "nbformat_minor": 0,
  "metadata": {
    "colab": {
      "provenance": []
    },
    "kernelspec": {
      "name": "python3",
      "display_name": "Python 3"
    },
    "language_info": {
      "name": "python"
    },
    "accelerator": "GPU"
  },
  "cells": [
    {
      "cell_type": "markdown",
      "source": [
        "**ResNet**\n",
        "\n",
        "\n",
        "---\n",
        "\n"
      ],
      "metadata": {
        "id": "rsT33jxX5MUD"
      }
    },
    {
      "cell_type": "code",
      "execution_count": null,
      "metadata": {
        "colab": {
          "base_uri": "https://localhost:8080/",
          "height": 354
        },
        "id": "cbbIFvUDW33Y",
        "outputId": "7ff3b4d1-069c-46d2-f880-892597b74980"
      },
      "outputs": [
        {
          "output_type": "stream",
          "name": "stdout",
          "text": [
            "Files already downloaded and verified\n",
            "Files already downloaded and verified\n",
            "(50000, 32, 32, 3)\n",
            "(10000, 32, 32, 3)\n"
          ]
        },
        {
          "output_type": "display_data",
          "data": {
            "text/plain": [
              "<Figure size 432x288 with 1 Axes>"
            ],
            "image/png": "[encoded data removed]"
          },
          "metadata": {
            "needs_background": "light"
          }
        }
      ],
      "source": [
        "import torch\n",
        "import torch.nn as nn\n",
        "import torchvision\n",
        "from torchvision import transforms\n",
        "import matplotlib.pyplot as plt\n",
        "\n",
        "# device\n",
        "device = torch.device('cuda' if torch.cuda.is_available() else 'cpu')\n",
        "\n",
        "# hyperparameters\n",
        "num_epochs = 100\n",
        "batch_size = 128\n",
        "learning_rate = 0.01\n",
        "\n",
        "# transformations - they will be applied during dataloading\n",
        "train_transform = transforms.Compose([\n",
        "    transforms.RandomHorizontalFlip(),\n",
        "    transforms.ToTensor(),\n",
        "    transforms.Normalize((0.5,0.5,0.5),(0.5,0.5,0.5))\n",
        "])\n",
        "\n",
        "test_transform = transforms.Compose([\n",
        "    transforms.ToTensor(),\n",
        "    transforms.Normalize((0.5,0.5,0.5),(0.5,0.5,0.5))\n",
        "])\n",
        "\n",
        "\n",
        "# Download dataset\n",
        "train_dataset = torchvision.datasets.CIFAR10(\n",
        "    root='./cifar10_data/',\n",
        "    train=True,\n",
        "    transform=train_transform,\n",
        "    download=True)\n",
        "\n",
        "test_dataset = torchvision.datasets.CIFAR10(\n",
        "    root='./cifar10_data/',\n",
        "    train=False,\n",
        "    transform=test_transform,\n",
        "    download=True)\n",
        "\n",
        "\n",
        "# class names \n",
        "classes = train_dataset.classes\n",
        "\n",
        "\n",
        "# class names\n",
        "#classes = ('plane', 'car', 'bird', 'cat','deer', 'dog', 'frog', 'horse', 'ship', 'truck')\n",
        "\n",
        "# Dataset size\n",
        "print(train_dataset.data.shape)\n",
        "print(test_dataset.data.shape)\n",
        "\n",
        "# print a sample image from dataset\n",
        "image = train_dataset.data[0] #numpy array (32,32,3)\n",
        "label = train_dataset.targets[0]\n",
        "\n",
        "plt.imshow(image)\n",
        "plt.title(classes[label])\n",
        "\n",
        "# data loaders\n",
        "train_loader = torch.utils.data.DataLoader(dataset=train_dataset,\n",
        "                                           batch_size=batch_size,\n",
        "                                           shuffle=True)\n",
        "\n",
        "test_loader = torch.utils.data.DataLoader(dataset=test_dataset,\n",
        "                                          batch_size=batch_size,\n",
        "                                          shuffle=False)\n"
      ]
    },
    {
      "cell_type": "markdown",
      "source": [
        "ResNet consists of residual blocks. Each residual block has convolutional layers plus a short cut."
      ],
      "metadata": {
        "id": "SOKIFsFy8Oe_"
      }
    },
    {
      "cell_type": "code",
      "source": [
        "# Define a 3x3 convolution function\n",
        "def conv3x3(in_channels, out_channels, stride=1):\n",
        "  return torch.nn.Conv2d(in_channels,\n",
        "                         out_channels,\n",
        "                         kernel_size=3,\n",
        "                         stride=stride,\n",
        "                         padding=1,\n",
        "                         bias=False)\n",
        "\n",
        "# Residual block\n",
        "class ResidualBlock(nn.Module):\n",
        "  def __init__(self, in_channels, out_channels, stride=1, downsample=None):\n",
        "    super().__init__()\n",
        "    self.conv1 = conv3x3(in_channels, out_channels, stride)\n",
        "    self.bn1 = nn.BatchNorm2d(out_channels)\n",
        "    self.relu = nn.ReLU(inplace=True)\n",
        "    self.conv2 = conv3x3(out_channels, out_channels)\n",
        "    self.bn2 = nn.BatchNorm2d(out_channels)\n",
        "    self.downsample = downsample\n",
        "      \n",
        "  def forward(self, x):\n",
        "    residual = x\n",
        "    out = self.conv1(x)\n",
        "    out = self.bn1(out)\n",
        "    out = self.relu(out)\n",
        "    out = self.conv2(out)\n",
        "    out = self.bn2(out)\n",
        "    if self.downsample:\n",
        "        residual = self.downsample(x)\n",
        "    out += residual\n",
        "    out = self.relu(out)\n",
        "    return out\n"
      ],
      "metadata": {
        "id": "fL-TR-D2lQlH"
      },
      "execution_count": null,
      "outputs": []
    },
    {
      "cell_type": "code",
      "source": [
        "# ResNet\n",
        "class ResNet(nn.Module):\n",
        "\n",
        "  # A residual block is repeated multiple times at each layer. When initialized,\n",
        "  #   res_block is the residual block\n",
        "  #   layers is a list of repetitions at each layer\n",
        "  def __init__(self, res_block, layers, num_classes=10):\n",
        "    super().__init__()\n",
        "    # There is a layer of conv3x3, batchnorm, relu applied to the input image\n",
        "    #   This is that layer. The number of out_channels is 16. \n",
        "    #   16 will then be in_channels for the residual layers\n",
        "    self.in_channels = 16\n",
        "    self.conv = conv3x3(3, 16)\n",
        "    self.bn = nn.BatchNorm2d(16)\n",
        "    self.relu = nn.ReLU(inplace=True)\n",
        "   \n",
        "    # Now, we create the layers\n",
        "    #   Each layer is made a function make_layer\n",
        "    #   make_layer takes res_block, out_channel, repetitions and stride as input\n",
        "    #   There are three layers \n",
        "    self.layer1 = self.make_layer(res_block, 16, layers[0], 1)\n",
        "    self.layer2 = self.make_layer(res_block, 32, layers[1], 2)\n",
        "    self.layer3 = self.make_layer(res_block, 64, layers[2], 2)\n",
        "\n",
        "    # There is also average poling and a fully connected layer at the end\n",
        "    self.avg_pool = nn.AvgPool2d(8)\n",
        "    self.fc = nn.Linear(64, num_classes)\n",
        "\n",
        "  # Function to build a layer\n",
        "  def make_layer(self, res_block, out_channels, repetitions, stride=1):\n",
        "    downsample = None\n",
        "    # If to downsample, do it with conv2d and batchnorm\n",
        "    if (stride != 1) or (self.in_channels != out_channels):\n",
        "        downsample = nn.Sequential(\n",
        "            conv3x3(self.in_channels, out_channels, stride=stride),\n",
        "            nn.BatchNorm2d(out_channels))\n",
        "    \n",
        "    # Each layer will be repeated applications of residual block\n",
        "    # Create a list of layers and then unpack it \n",
        "    layers = []\n",
        "    layers.append(res_block(self.in_channels, out_channels, stride, downsample))\n",
        "    # if repetitions is greater then 1, append those\n",
        "    for i in range(1, repetitions):\n",
        "        layers.append(res_block(out_channels, out_channels))\n",
        "    \n",
        "    # in_channels attribute is update after making a layer, to be used for ... \n",
        "    #   the next layer\n",
        "    self.in_channels = out_channels\n",
        "\n",
        "    # unpack the list of layers and apply them sequentially \n",
        "    return nn.Sequential(*layers)\n",
        "\n",
        "  # Now, the forward process\n",
        "  def forward(self, x):\n",
        "    out = self.conv(x)\n",
        "    out = self.bn(out)\n",
        "    out = self.relu(out)\n",
        "    out = self.layer1(out)\n",
        "    out = self.layer2(out)\n",
        "    out = self.layer3(out)\n",
        "    out = self.avg_pool(out)\n",
        "    out = out.view(out.size(0), -1) # out.size(0) is the batch size\n",
        "                                    # so, we flatten the rest of the tensor\n",
        "    out = self.fc(out)\n",
        "    return out"
      ],
      "metadata": {
        "id": "uwh9wahrwgUF"
      },
      "execution_count": null,
      "outputs": []
    },
    {
      "cell_type": "code",
      "source": [
        "# Create a model instantance\n",
        "#   layers=[2,2,2] -> 3 layers, each with 2 residual blocks\n",
        "model = ResNet(ResidualBlock, [2,2,2], num_classes=10).to(device)\n",
        "print(model)\n",
        "# Note that this prints the layers defined in the constructor __init__\n",
        "#   layer1, layer2 and layer3 are created by the make_layer"
      ],
      "metadata": {
        "id": "NWzFBsHF62fg",
        "colab": {
          "base_uri": "https://localhost:8080/"
        },
        "outputId": "987d9d3f-8bb5-4e79-bf62-c81eb99363d3"
      },
      "execution_count": null,
      "outputs": [
        {
          "output_type": "stream",
          "name": "stdout",
          "text": [
            "ResNet(\n",
            "  (conv): Conv2d(3, 16, kernel_size=(3, 3), stride=(1, 1), padding=(1, 1), bias=False)\n",
            "  (bn): BatchNorm2d(16, eps=1e-05, momentum=0.1, affine=True, track_running_stats=True)\n",
            "  (relu): ReLU(inplace=True)\n",
            "  (layer1): Sequential(\n",
            "    (0): ResidualBlock(\n",
            "      (conv1): Conv2d(16, 16, kernel_size=(3, 3), stride=(1, 1), padding=(1, 1), bias=False)\n",
            "      (bn1): BatchNorm2d(16, eps=1e-05, momentum=0.1, affine=True, track_running_stats=True)\n",
            "      (relu): ReLU(inplace=True)\n",
            "      (conv2): Conv2d(16, 16, kernel_size=(3, 3), stride=(1, 1), padding=(1, 1), bias=False)\n",
            "      (bn2): BatchNorm2d(16, eps=1e-05, momentum=0.1, affine=True, track_running_stats=True)\n",
            "    )\n",
            "    (1): ResidualBlock(\n",
            "      (conv1): Conv2d(16, 16, kernel_size=(3, 3), stride=(1, 1), padding=(1, 1), bias=False)\n",
            "      (bn1): BatchNorm2d(16, eps=1e-05, momentum=0.1, affine=True, track_running_stats=True)\n",
            "      (relu): ReLU(inplace=True)\n",
            "      (conv2): Conv2d(16, 16, kernel_size=(3, 3), stride=(1, 1), padding=(1, 1), bias=False)\n",
            "      (bn2): BatchNorm2d(16, eps=1e-05, momentum=0.1, affine=True, track_running_stats=True)\n",
            "    )\n",
            "  )\n",
            "  (layer2): Sequential(\n",
            "    (0): ResidualBlock(\n",
            "      (conv1): Conv2d(16, 32, kernel_size=(3, 3), stride=(2, 2), padding=(1, 1), bias=False)\n",
            "      (bn1): BatchNorm2d(32, eps=1e-05, momentum=0.1, affine=True, track_running_stats=True)\n",
            "      (relu): ReLU(inplace=True)\n",
            "      (conv2): Conv2d(32, 32, kernel_size=(3, 3), stride=(1, 1), padding=(1, 1), bias=False)\n",
            "      (bn2): BatchNorm2d(32, eps=1e-05, momentum=0.1, affine=True, track_running_stats=True)\n",
            "      (downsample): Sequential(\n",
            "        (0): Conv2d(16, 32, kernel_size=(3, 3), stride=(2, 2), padding=(1, 1), bias=False)\n",
            "        (1): BatchNorm2d(32, eps=1e-05, momentum=0.1, affine=True, track_running_stats=True)\n",
            "      )\n",
            "    )\n",
            "    (1): ResidualBlock(\n",
            "      (conv1): Conv2d(32, 32, kernel_size=(3, 3), stride=(1, 1), padding=(1, 1), bias=False)\n",
            "      (bn1): BatchNorm2d(32, eps=1e-05, momentum=0.1, affine=True, track_running_stats=True)\n",
            "      (relu): ReLU(inplace=True)\n",
            "      (conv2): Conv2d(32, 32, kernel_size=(3, 3), stride=(1, 1), padding=(1, 1), bias=False)\n",
            "      (bn2): BatchNorm2d(32, eps=1e-05, momentum=0.1, affine=True, track_running_stats=True)\n",
            "    )\n",
            "  )\n",
            "  (layer3): Sequential(\n",
            "    (0): ResidualBlock(\n",
            "      (conv1): Conv2d(32, 64, kernel_size=(3, 3), stride=(2, 2), padding=(1, 1), bias=False)\n",
            "      (bn1): BatchNorm2d(64, eps=1e-05, momentum=0.1, affine=True, track_running_stats=True)\n",
            "      (relu): ReLU(inplace=True)\n",
            "      (conv2): Conv2d(64, 64, kernel_size=(3, 3), stride=(1, 1), padding=(1, 1), bias=False)\n",
            "      (bn2): BatchNorm2d(64, eps=1e-05, momentum=0.1, affine=True, track_running_stats=True)\n",
            "      (downsample): Sequential(\n",
            "        (0): Conv2d(32, 64, kernel_size=(3, 3), stride=(2, 2), padding=(1, 1), bias=False)\n",
            "        (1): BatchNorm2d(64, eps=1e-05, momentum=0.1, affine=True, track_running_stats=True)\n",
            "      )\n",
            "    )\n",
            "    (1): ResidualBlock(\n",
            "      (conv1): Conv2d(64, 64, kernel_size=(3, 3), stride=(1, 1), padding=(1, 1), bias=False)\n",
            "      (bn1): BatchNorm2d(64, eps=1e-05, momentum=0.1, affine=True, track_running_stats=True)\n",
            "      (relu): ReLU(inplace=True)\n",
            "      (conv2): Conv2d(64, 64, kernel_size=(3, 3), stride=(1, 1), padding=(1, 1), bias=False)\n",
            "      (bn2): BatchNorm2d(64, eps=1e-05, momentum=0.1, affine=True, track_running_stats=True)\n",
            "    )\n",
            "  )\n",
            "  (avg_pool): AvgPool2d(kernel_size=8, stride=8, padding=0)\n",
            "  (fc): Linear(in_features=64, out_features=10, bias=True)\n",
            ")\n"
          ]
        }
      ]
    },
    {
      "cell_type": "code",
      "source": [
        "# torchinfo displays a nicer summary with output shapes\n",
        "!pip install torchinfo\n",
        "from torchinfo import summary\n",
        "summary(model, (1, 3, 32, 32), col_names=[\"kernel_size\", \"output_size\", \"num_params\"])"
      ],
      "metadata": {
        "id": "8PNLPExuVloM"
      },
      "execution_count": null,
      "outputs": []
    },
    {
      "cell_type": "code",
      "source": [
        "# Set the cost function and the optimizer\n",
        "criterion = torch.nn.CrossEntropyLoss()\n",
        "optimizer = torch.optim.Adam(model.parameters(),lr=learning_rate)"
      ],
      "metadata": {
        "id": "G4CF3OFNDSMT"
      },
      "execution_count": null,
      "outputs": []
    },
    {
      "cell_type": "code",
      "source": [
        "# to change the learning rate during iterations\n",
        "def update_lr(optimizer,lr):\n",
        "  for param_group in optimizer.param_groups:\n",
        "    param_group['lr'] = lr"
      ],
      "metadata": {
        "id": "NkbLqZvGDfz6"
      },
      "execution_count": null,
      "outputs": []
    },
    {
      "cell_type": "code",
      "source": [
        "# train the model\n",
        "total_step = len(train_loader)\n",
        "#print(total_step)\n",
        "curr_lr = learning_rate\n",
        "for epoch in range(num_epochs):\n",
        "  for i, (images,labels) in enumerate(train_loader):\n",
        "    images = images.to(device)\n",
        "    labels = labels.to(device)\n",
        "\n",
        "    # forward pass\n",
        "    outputs = model(images)\n",
        "    loss = criterion(outputs,labels)\n",
        "\n",
        "    # backward pass and optimize\n",
        "    optimizer.zero_grad()\n",
        "    loss.backward()\n",
        "    optimizer.step()\n",
        "\n",
        "    # Display the loss at every 100 batch in an epoch\n",
        "    if i % 100 == 0:\n",
        "      print('epoch:',epoch,'batch:',i,'loss:',loss.item())\n",
        "  \n",
        "  # At every 20 epoch, reduce the learning to half\n",
        "  if (epoch+1) % 20 == 0:\n",
        "    curr_lr = curr_lr / 2\n",
        "    update_lr(optimizer,curr_lr)\n"
      ],
      "metadata": {
        "id": "OXgu8ZDTD51o"
      },
      "execution_count": null,
      "outputs": []
    },
    {
      "cell_type": "code",
      "source": [
        "# Test the model\n",
        "\n",
        "# For loss calculation\n",
        "total_loss = 0\n",
        "total_correct = 0\n",
        "dataset_size = len(test_loader.dataset)\n",
        "\n",
        "# Put the model into evaluation mode\n",
        "model.eval()\n",
        "\n",
        "# Do not calculate gradients\n",
        "with torch.no_grad():\n",
        "  for X,y in test_loader:\n",
        "    X = X.to(device)\n",
        "    y = y.to(device)\n",
        "\n",
        "    y_pred = model(X)\n",
        "\n",
        "    # Calculate loss\n",
        "    total_loss += criterion(y_pred, y).item()\n",
        "    total_correct += (y_pred.argmax(1) == y).type(torch.float).sum().item()\n",
        "\n",
        "print(f\"Test Loss: {total_loss/dataset_size:0.4f}, \\\n",
        "        Test Accuracy: {total_correct/dataset_size:0.4f}\")\n",
        "\n"
      ],
      "metadata": {
        "id": "oGc6kLbfIIw7"
      },
      "execution_count": null,
      "outputs": []
    },
    {
      "cell_type": "code",
      "source": [
        "# Test a single image\n",
        "image, label = next(iter(test_loader))\n",
        "#print(image.shape) # --> torch.Size([128, 3, 32, 32])\n",
        "\n",
        "idx = 100\n",
        "image0 = image[idx].to(device)\n",
        "#print(image0.shape) # --> torch.Size([3, 32, 32])\n",
        "#print(image0.unsqueeze(dim=0).shape) # --> torch.Size([1, 3, 32, 32])\n",
        "\n",
        "label0 = label[idx].item()\n",
        "\n",
        "y_pred = model(image0.unsqueeze(dim=0))\n",
        "label_pred = y_pred.argmax(1).item()\n",
        "# Note that images are normalized to [-0.5,0.5] range.\n",
        "#   This will clip below 0; darks are clipped\n",
        "plt.figure()\n",
        "plt.imshow(image0.permute(1,2,0).cpu().numpy())\n",
        "#   By adding 0.5, we brind the expected range to [0,1], and then clip\n",
        "plt.figure()\n",
        "plt.imshow(image0.permute(1,2,0).cpu().numpy()+0.5)\n",
        "#   If would like to scale everything \n",
        "import matplotlib.colors as colors\n",
        "plt.figure()\n",
        "plt.imshow(image0.permute(1,2,0).cpu().numpy(),norm=colors.Normalize())\n",
        "\n",
        "plt.title(f\"True: {classes[label0]}, Predicted:{classes[label_pred]}\")"
      ],
      "metadata": {
        "colab": {
          "base_uri": "https://localhost:8080/",
          "height": 872
        },
        "id": "by8STGBXa305",
        "outputId": "58cdaa2f-f088-4863-ea93-65c81271b134"
      },
      "execution_count": null,
      "outputs": [
        {
          "output_type": "stream",
          "name": "stderr",
          "text": [
            "WARNING:matplotlib.image:Clipping input data to the valid range for imshow with RGB data ([0..1] for floats or [0..255] for integers).\n",
            "WARNING:matplotlib.image:Clipping input data to the valid range for imshow with RGB data ([0..1] for floats or [0..255] for integers).\n",
            "WARNING:matplotlib.image:Clipping input data to the valid range for imshow with RGB data ([0..1] for floats or [0..255] for integers).\n"
          ]
        },
        {
          "output_type": "execute_result",
          "data": {
            "text/plain": [
              "Text(0.5, 1.0, 'True: deer, Predicted:deer')"
            ]
          },
          "metadata": {},
          "execution_count": 81
        },
        {
          "output_type": "display_data",
          "data": {
            "text/plain": [
              "<Figure size 432x288 with 1 Axes>"
            ],
            "image/png": "[encoded data removed]"
          },
          "metadata": {
            "needs_background": "light"
          }
        },
        {
          "output_type": "display_data",
          "data": {
            "text/plain": [
              "<Figure size 432x288 with 1 Axes>"
            ],
            "image/png": "[encoded data removed]"
          },
          "metadata": {
            "needs_background": "light"
          }
        },
        {
          "output_type": "display_data",
          "data": {
            "text/plain": [
              "<Figure size 432x288 with 1 Axes>"
            ],
            "image/png": "[encoded data removed]"
          },
          "metadata": {
            "needs_background": "light"
          }
        }
      ]
    },
    {
      "cell_type": "code",
      "source": [
        " "
      ],
      "metadata": {
        "id": "rqU1l4Q1gVfu"
      },
      "execution_count": null,
      "outputs": []
    }
  ]
}